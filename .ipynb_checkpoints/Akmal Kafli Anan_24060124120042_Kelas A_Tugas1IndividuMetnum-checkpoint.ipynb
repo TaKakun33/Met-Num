{
 "cells": [
  {
   "cell_type": "markdown",
   "id": "d56c59b3-f587-4425-a9ae-eb672a63d89e",
   "metadata": {},
   "source": [
    "# **Tugas Individu**"
   ]
  },
  {
   "cell_type": "code",
   "execution_count": 6,
   "id": "51d455b5-7ef0-4025-910f-389d76ea7b46",
   "metadata": {},
   "outputs": [
    {
     "name": "stdout",
     "output_type": "stream",
     "text": [
      "0.980066666666667\n",
      "0.980066577841242\n"
     ]
    }
   ],
   "source": [
    "import numpy as np\n",
    "import sympy as sp\n",
    "\n",
    "def turunan(f,a,n):\n",
    "    x = sp.symbols('x')\n",
    "    ekspresi = f(x)\n",
    "    turunan = sp.diff(ekspresi, x, n)\n",
    "    f_prime = sp.lambdify(x, turunan, 'numpy')\n",
    "    return f_prime(a)\n",
    "\n",
    "\n",
    "def DeretTaylor(f, x, a, n):\n",
    "    hasil = 0\n",
    "    for i in range(n + 1):\n",
    "        derivative = turunan(f, a, i)\n",
    "        term = (derivative / sp.factorial(i)) * (x - a)**i\n",
    "        hasil += term\n",
    "    print(hasil)\n",
    "\n",
    "f = lambda x : sp.cos(x)\n",
    "\n",
    "DeretTaylor(f,0.2,0,5)\n",
    "print(f(0.2))"
   ]
  },
  {
   "cell_type": "code",
   "execution_count": null,
   "id": "9d9708de-ff73-486b-8217-7356ddd856b2",
   "metadata": {},
   "outputs": [],
   "source": []
  }
 ],
 "metadata": {
  "kernelspec": {
   "display_name": "Python 3 (ipykernel)",
   "language": "python",
   "name": "python3"
  },
  "language_info": {
   "codemirror_mode": {
    "name": "ipython",
    "version": 3
   },
   "file_extension": ".py",
   "mimetype": "text/x-python",
   "name": "python",
   "nbconvert_exporter": "python",
   "pygments_lexer": "ipython3",
   "version": "3.11.4"
  }
 },
 "nbformat": 4,
 "nbformat_minor": 5
}
