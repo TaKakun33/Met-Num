{
 "cells": [
  {
   "cell_type": "markdown",
   "id": "7802bb9c-484b-4f4c-a7b1-b60d0b1b20a5",
   "metadata": {},
   "source": [
    "# Turunan Pertama"
   ]
  },
  {
   "cell_type": "markdown",
   "id": "8a24c3f9-1966-42bd-ab1b-58588e8551df",
   "metadata": {},
   "source": [
    "## Fungsi Turunan pertama Metode Analitik"
   ]
  },
  {
   "cell_type": "code",
   "execution_count": 38,
   "id": "484ac576-e98b-44af-b4c8-3d4896fb4889",
   "metadata": {},
   "outputs": [],
   "source": [
    "# Libary\n",
    "import sympy as sp\n",
    "import numpy as np\n",
    "\n",
    "#Fungcion\n",
    "def turunan(f,a,n):\n",
    "    '''\n",
    "    Fungsi untuk mencari turunan dari f\n",
    "\n",
    "    parameters:\n",
    "    f(function) = fungsi yang mau diturunkan\n",
    "    a(float) = nilai dari x\n",
    "    n(int) = ordo turunan\n",
    "    '''\n",
    "    \n",
    "    x = sp.symbols('x')                                 # mendefinisikan variabel simbolik\n",
    "    turunan = sp.diff(f(x), x, n)                       # menghitung turunan ke -n\n",
    "    f_prime = sp.lambdify(x, turunan, 'numpy')          # konvensi ko fungsi lambda\n",
    "    return f_prime(a)"
   ]
  },
  {
   "cell_type": "code",
   "execution_count": 45,
   "id": "44711651-745d-4264-ae96-049468ccc2e2",
   "metadata": {},
   "outputs": [
    {
     "name": "stdout",
     "output_type": "stream",
     "text": [
      "\n",
      "============================================\n",
      "Turunan analitik di x = 2.0: 0.692713\n",
      "============================================\n",
      "\n"
     ]
    }
   ],
   "source": [
    "# Parameter\n",
    "f = lambda x: 2*x+sp.sin(2*x)\n",
    "\n",
    "x = 2.0\n",
    "h = 0.1\n",
    "\n",
    "# Aplikasi\n",
    "df_analytic = turunan(f,x,1)\n",
    "\n",
    "# Tampilakn hasil\n",
    "print(\"\\n============================================\")\n",
    "print(f\"Turunan analitik di x = {x}: {df_analytic:.6f}\")\n",
    "print(\"============================================\\n\")"
   ]
  },
  {
   "cell_type": "markdown",
   "id": "2fff6922-4cb0-4484-be62-014810ed32cc",
   "metadata": {},
   "source": [
    "## Fungsi Turunan pertama Metode Selisih Maju\n",
    "dua titik: <br>\n",
    "$\\displaystyle{f}'{\\left({x}\\right)}=\\frac{{ f{{\\left({x}+{h}\\right)}}- f{{\\left({x}\\right)}}}}{{h}}+{O}{\\left({h}\\right)}$ <br>\n",
    "Tiga titk: <br>\n",
    "$\\displaystyle{f}'{\\left({x}\\right)}=\\frac{{- f{{\\left({x}+{2}{h}\\right)}}+{4} f{{\\left({x}+{h}\\right)}}-{3} f{{\\left({x}\\right)}}}}{{{2}{h}}}+{O}{\\left({h}^{2}\\right)}$"
   ]
  },
  {
   "cell_type": "code",
   "execution_count": 46,
   "id": "facefca5-4804-4f6b-98b0-038773be5e4a",
   "metadata": {},
   "outputs": [
    {
     "name": "stdout",
     "output_type": "stream",
     "text": [
      "\n",
      "============================================\n",
      "Metode Maju (Forward):\n",
      "O(h):  0.852267, Error: 0.159554\n",
      "O(h²): 0.678532, Error: 0.014180\n",
      "============================================\n",
      "\n"
     ]
    }
   ],
   "source": [
    "# Fungcion\n",
    "def forward_o1(f, x, h):\n",
    "    \"\"\"\n",
    "    Metode maju (forward difference) dengan error O(h).\n",
    "    Formula: [f(x + h) - f(x)] / h\n",
    "    \"\"\"\n",
    "    return (f(x + h) - f(x)) / h\n",
    "\n",
    "def forward_o2(f, x, h):\n",
    "    \"\"\"\n",
    "    Metode maju (forward difference) dengan error O(h^2).\n",
    "    Formula: [-f(x + 2h) + 4f(x + h) - 3f(x)] / (2h)\n",
    "    \"\"\"\n",
    "    return (-f(x + 2*h) + 4*f(x + h) - 3*f(x)) / (2*h)\n",
    "\n",
    "# Aplikasi\n",
    "df_forward_o1 = forward_o1(f, x, h)\n",
    "df_forward_o2 = forward_o2(f, x, h)\n",
    "\n",
    "# Tampilkan hasil\n",
    "print(\"\\n============================================\")\n",
    "print(\"Metode Maju (Forward):\")\n",
    "print(f\"O(h):  {df_forward_o1:.6f}, Error: {abs(df_forward_o1 - df_analytic):.6f}\")\n",
    "print(f\"O(h²): {df_forward_o2:.6f}, Error: {abs(df_forward_o2 - df_analytic):.6f}\")\n",
    "print(\"============================================\\n\")"
   ]
  },
  {
   "cell_type": "markdown",
   "id": "0d2d694e-c19b-4b27-98df-ea9e76c53d39",
   "metadata": {},
   "source": [
    "## Fungsi Turunan pertama Metode Selisih Mundur\n",
    "dua titik: <br>\n",
    "$\\displaystyle{f}'{\\left({x}\\right)}=\\frac{{ f{{\\left({x}\\right)}}- f{{\\left({x}-{h}\\right)}}}}{{h}}+{O}{\\left({h}\\right)}$ <br>\n",
    "Tiga titk: <br>\n",
    "$\\displaystyle{f}'{\\left({x}\\right)}=\\frac{{{3} f{{\\left({x}\\right)}}-{4} f{{\\left({x}-{h}\\right)}}+ f{{\\left({x}-{2}{h}\\right)}}}}{{{2}{h}}}+{O}{\\left({h}^{2}\\right)}$"
   ]
  },
  {
   "cell_type": "code",
   "execution_count": 47,
   "id": "a1ff3c8c-e326-452c-8593-534fdca5e2ed",
   "metadata": {},
   "outputs": [
    {
     "name": "stdout",
     "output_type": "stream",
     "text": [
      "\n",
      "============================================\n",
      "Metode Mundur (Backward):\n",
      "O(h):  0.550554, Error: 0.142159\n",
      "O(h²): 0.672518, Error: 0.020195\n",
      "============================================\n",
      "\n"
     ]
    }
   ],
   "source": [
    "#Fungcion\n",
    "def backward_o1(f, x, h):\n",
    "    \"\"\"\n",
    "    Metode mundur (backward difference) dengan error O(h).\n",
    "    Formula: [f(x) - f(x - h)] / h\n",
    "    \"\"\"\n",
    "    return (f(x) - f(x - h)) / h\n",
    "\n",
    "def backward_o2(f, x, h):\n",
    "    \"\"\"\n",
    "    Metode mundur (backward difference) dengan error O(h^2).\n",
    "    Formula: [3f(x) - 4f(x - h) + f(x - 2h)] / (2h)\n",
    "    \"\"\"\n",
    "    return (3*f(x) - 4*f(x - h) + f(x - 2*h)) / (2*h)\n",
    "\n",
    "# Aplikasi\n",
    "df_backward_o1 = backward_o1(f, x, h)\n",
    "df_backward_o2 = backward_o2(f, x, h)\n",
    "\n",
    "# Tampilkan hasil\n",
    "print(\"\\n============================================\")\n",
    "print(\"Metode Mundur (Backward):\")\n",
    "print(f\"O(h):  {df_backward_o1:.6f}, Error: {abs(df_backward_o1 - df_analytic):.6f}\")\n",
    "print(f\"O(h²): {df_backward_o2:.6f}, Error: {abs(df_backward_o2 - df_analytic):.6f}\")\n",
    "print(\"============================================\\n\")"
   ]
  },
  {
   "cell_type": "markdown",
   "id": "390601b5-70cb-4e16-9014-8aacae21e62e",
   "metadata": {},
   "source": [
    "## Fungsi Turunan pertama Metode Selisih Pusat\n",
    "dua titik: <br>\n",
    "$\\displaystyle{f}'{\\left({x}\\right)}=\\frac{{ f{{\\left({x}+{h}\\right)}}- f{{\\left({x}-{h}\\right)}}}}{{{2}{h}}}+{O}{\\left({h}^{2}\\right)}$ <br>\n",
    "Tiga titk: <br>\n",
    "$\\displaystyle{f}'{\\left({x}\\right)}=\\frac{{- f{{\\left({x}+{2}{h}\\right)}}+{8} f{{\\left({x}+{h}\\right)}}-{8} f{{\\left({x}-{h}\\right)}}+ f{{\\left({x}-{2}{h}\\right)}}}}{{{12}{h}}}+{O}{\\left({h}^{4}\\right)}$"
   ]
  },
  {
   "cell_type": "code",
   "execution_count": 49,
   "id": "533f6499-5f70-4062-8579-97f06da96015",
   "metadata": {},
   "outputs": [
    {
     "name": "stdout",
     "output_type": "stream",
     "text": [
      "\n",
      "============================================\n",
      "Metode Tengah (Central):\n",
      "O(h²): 0.701411, Error: 0.008698\n",
      "O(h⁴): 0.692782, Error: 0.000069\n",
      "============================================\n",
      "\n"
     ]
    }
   ],
   "source": [
    "# Fungscion\n",
    "def central_o2(f, x, h):\n",
    "    \"\"\"\n",
    "    Metode tengah (central difference) dengan error O(h^2).\n",
    "    Formula: [f(x + h) - f(x - h)] / (2h)\n",
    "    \"\"\"\n",
    "    return (f(x + h) - f(x - h)) / (2*h)\n",
    "\n",
    "def central_o4(f, x, h):\n",
    "    \"\"\"\n",
    "    Metode tengah (central difference) dengan error O(h^4).\n",
    "    Formula: [-f(x + 2h) + 8f(x + h) - 8f(x - h) + f(x - 2h)] / (12h)\n",
    "    \"\"\"\n",
    "    return (-f(x + 2*h) + 8*f(x + h) - 8*f(x - h) + f(x - 2*h)) / (12*h)\n",
    "\n",
    "# Aplikasi\n",
    "df_central_o2 = central_o2(f, x, h)\n",
    "df_central_o4 = central_o4(f, x, h)\n",
    "\n",
    "# Tampilkan hasil\n",
    "print(\"\\n============================================\")\n",
    "print(\"Metode Tengah (Central):\")\n",
    "print(f\"O(h²): {df_central_o2:.6f}, Error: {abs(df_central_o2 - df_analytic):.6f}\")\n",
    "print(f\"O(h⁴): {df_central_o4:.6f}, Error: {abs(df_central_o4 - df_analytic):.6f}\")\n",
    "print(\"============================================\\n\")"
   ]
  },
  {
   "cell_type": "markdown",
   "id": "834a4cfd-ec54-43e3-b9e0-39c61434bad6",
   "metadata": {},
   "source": [
    "# Turunan Kedua"
   ]
  },
  {
   "cell_type": "markdown",
   "id": "ce320c9d-0700-435e-b6f2-d72ab056218c",
   "metadata": {},
   "source": [
    "## Fungsi Turunan Kedua Metode Analitik"
   ]
  },
  {
   "cell_type": "code",
   "execution_count": 48,
   "id": "1cd2d71f-a64c-40e2-8ee1-d27aeb764072",
   "metadata": {},
   "outputs": [
    {
     "name": "stdout",
     "output_type": "stream",
     "text": [
      "\n",
      "============================================\n",
      "Turunan analitik di x = 2.0: 3.027210\n",
      "============================================\n",
      "\n"
     ]
    }
   ],
   "source": [
    "# Parameter\n",
    "f = lambda x: 2*x+sp.sin(2*x)\n",
    "x = 2.0\n",
    "h = 0.1\n",
    "\n",
    "# Aplikasi\n",
    "d2f_analytic = turunan(f,x,2)\n",
    "\n",
    "# Tampilakn hasil\n",
    "print(\"\\n============================================\")\n",
    "print(f\"Turunan analitik di x = {x}: {d2f_analytic:.6f}\")\n",
    "print(\"============================================\\n\")"
   ]
  },
  {
   "cell_type": "markdown",
   "id": "619976e1-1947-4b5b-9fb8-e3f0fa0b8f97",
   "metadata": {},
   "source": [
    "## Fungsi Turunan Kedua Metode Selisih Maju\n",
    "dua titik: <br>\n",
    "$\\displaystyle{f}''{\\left({x}\\right)}=\\frac{{ f{{\\left({x}+{2}{h}\\right)}}-{2} f{{\\left({x}+{h}\\right)}}+ f{{\\left({x}\\right)}}}}{{h}^{2}}+{O}{\\left({h}\\right)}$ <br>\n",
    "Tiga titk: <br>\n",
    "$\\displaystyle{f}''{\\left({x}\\right)}=\\frac{{{2} f{{\\left({x}\\right)}}-{5} f{{\\left({x}+{h}\\right)}}+{4} f{{\\left({x}+{2}{h}\\right)}}- f{{\\left({x}+{3}{h}\\right)}}}}{{h}^{2}}+{O}{\\left({h}^{2}\\right)}$"
   ]
  },
  {
   "cell_type": "code",
   "execution_count": 52,
   "id": "0e318240-d30f-4c38-9146-32512ff8a729",
   "metadata": {},
   "outputs": [
    {
     "name": "stdout",
     "output_type": "stream",
     "text": [
      "\n",
      "============================================\n",
      "Metode Maju (Forward):\n",
      "O(h):  3.474698, Error: 0.447488\n",
      "O(h²): 3.155658, Error: 0.128448\n",
      "============================================\n",
      "\n"
     ]
    }
   ],
   "source": [
    "# Fungcion\n",
    "def forward_diff2_o1(f, x, h):\n",
    "    \"\"\"\n",
    "    Turunan kedua metode maju (forward) dengan error O(h).\n",
    "    Formula: [f(x + 2h) - 2f(x + h) + f(x)] / h²\n",
    "    \"\"\"\n",
    "    return (f(x + 2*h) - 2*f(x + h) + f(x)) / (h**2)\n",
    "\n",
    "def forward_diff2_o2(f, x, h):\n",
    "    \"\"\"\n",
    "    Turunan kedua metode maju (forward) dengan error O(h²).\n",
    "    Formula: [2f(x) - 5f(x + h) + 4f(x + 2h) - f(x + 3h)] / h²\n",
    "    \"\"\"\n",
    "    return (2*f(x) - 5*f(x + h) + 4*f(x + 2*h) - f(x + 3*h)) / (h**2)\n",
    "\n",
    "# Aplikasi\n",
    "d2f_forward_o1 = forward_diff2_o1(f, x, h)\n",
    "d2f_forward_o2 = forward_diff2_o2(f, x, h)\n",
    "\n",
    "# Tampilakn hasil\n",
    "print(\"\\n============================================\")\n",
    "print(\"Metode Maju (Forward):\")\n",
    "print(f\"O(h):  {d2f_forward_o1:.6f}, Error: {abs(d2f_forward_o1 - d2f_analytic):.6f}\")\n",
    "print(f\"O(h²): {d2f_forward_o2:.6f}, Error: {abs(d2f_forward_o2 - d2f_analytic):.6f}\")\n",
    "print(\"============================================\\n\")"
   ]
  },
  {
   "cell_type": "markdown",
   "id": "d0f2688c-e2dd-4c44-a0de-1884d205a489",
   "metadata": {},
   "source": [
    "## Fungsi Turunan kedua Metode Selisih Mundur\n",
    "dua titik: <br>\n",
    "$\\displaystyle{f}{''}{\\left({x}\\right)}=\\frac{{ f{{\\left({x}\\right)}}-{2} f{{\\left({x}-{h}\\right)}}+ f{{\\left({x}-{2}{h}\\right)}}}}{{h}^{2}}+{O}{\\left({h}\\right)}$ <br>\n",
    "Tiga titk: <br>\n",
    "$\\displaystyle{f}'{\\left({x}\\right)}=\\frac{{{2} f{{\\left({x}\\right)}}-{5} f{{\\left({x}-{h}\\right)}}+{4} f{{\\left({x}-{2}{h}\\right)}}- f{{\\left({x}-{3}{h}\\right)}}}}{{h}^{2}}+{O}{\\left({h}^{2}\\right)}$"
   ]
  },
  {
   "cell_type": "code",
   "execution_count": 54,
   "id": "69012ade-4208-48fa-8c21-fb31192dc906",
   "metadata": {},
   "outputs": [
    {
     "name": "stdout",
     "output_type": "stream",
     "text": [
      "\n",
      "============================================\n",
      "Metode Mundur (Backward):\n",
      "O(h):  2.439284, Error: 0.587926\n",
      "O(h²): 3.114379, Error: 0.087169\n",
      "============================================\n",
      "\n"
     ]
    }
   ],
   "source": [
    "# Fungcion\n",
    "def backward_diff2_o1(f, x, h):\n",
    "    \"\"\"\n",
    "    Turunan kedua metode mundur (backward) dengan error O(h).\n",
    "    Formula: [f(x) - 2f(x - h) + f(x - 2h)] / h²\n",
    "    \"\"\"\n",
    "    return (f(x) - 2*f(x - h) + f(x - 2*h)) / (h**2)\n",
    "\n",
    "def backward_diff2_o2(f, x, h):\n",
    "    \"\"\"\n",
    "    Turunan kedua metode mundur (backward) dengan error O(h²).\n",
    "    Formula: [2f(x) - 5f(x - h) + 4f(x - 2h) - f(x - 3h)] / h²\n",
    "    \"\"\"\n",
    "    return (2*f(x) - 5*f(x - h) + 4*f(x - 2*h) - f(x - 3*h)) / (h**2)\n",
    "\n",
    "# Aplikasi\n",
    "d2f_backward_o1 = backward_diff2_o1(f, x, h)\n",
    "d2f_backward_o2 = backward_diff2_o2(f, x, h)\n",
    "\n",
    "# Tampilakn hasil\n",
    "print(\"\\n============================================\")\n",
    "print(\"Metode Mundur (Backward):\")\n",
    "print(f\"O(h):  {d2f_backward_o1:.6f}, Error: {abs(d2f_backward_o1 - d2f_analytic):.6f}\")\n",
    "print(f\"O(h²): {d2f_backward_o2:.6f}, Error: {abs(d2f_backward_o2 - d2f_analytic):.6f}\")\n",
    "print(\"============================================\\n\")"
   ]
  },
  {
   "cell_type": "markdown",
   "id": "96533b5e-79db-40f9-8309-928e93f14d7f",
   "metadata": {},
   "source": [
    "## Fungsi Turunan Kedua Metode Selisih Pusat\n",
    "dua titik: <br>\n",
    "$\\displaystyle{f}{''}{\\left({x}\\right)}=\\frac{{ f{{\\left({x}+{h}\\right)}}-{2} f{{\\left({x}\\right)}}+ f{{\\left({x}-{h}\\right)}}}}{{h}^{2}}+{O}{\\left({h}^{2}\\right)}$ <br>\n",
    "Tiga titk: <br>\n",
    "$\\displaystyle{f}'{\\left({x}\\right)}=\\frac{{- f{{\\left({x}+{2}{h}\\right)}}+{16} f{{\\left({x}+{h}\\right)}}-{30} f{{\\left({x}\\right)}}+{16} f{{\\left({x}-{h}\\right)}}- f{{\\left({x}-{2}{h}\\right)}}}}{{{12}{h}^{2}}}+{O}{\\left({h}^{4}\\right)}$"
   ]
  },
  {
   "cell_type": "code",
   "execution_count": 55,
   "id": "76d90dc2-aa23-4eab-a4fc-b6e99492a113",
   "metadata": {},
   "outputs": [
    {
     "name": "stdout",
     "output_type": "stream",
     "text": [
      "\n",
      "============================================\n",
      "Metode Tengah (Central):\n",
      "O(h²): 3.017133, Error: 0.010077\n",
      "O(h⁴): 3.027156, Error: 0.000054\n",
      "============================================\n",
      "\n"
     ]
    }
   ],
   "source": [
    "# Fungcion\n",
    "def central_diff2_o2(f, x, h):\n",
    "    \"\"\"\n",
    "    Turunan kedua metode tengah (central) dengan error O(h²).\n",
    "    Formula: [f(x + h) - 2f(x) + f(x - h)] / h²\n",
    "    \"\"\"\n",
    "    return (f(x + h) - 2*f(x) + f(x - h)) / (h**2)\n",
    "\n",
    "def central_diff2_o4(f, x, h):\n",
    "    \"\"\"\n",
    "    Turunan kedua metode tengah (central) dengan error O(h⁴).\n",
    "    Formula: [-f(x + 2h) + 16f(x + h) - 30f(x) + 16f(x - h) - f(x - 2h)] / (12h²)\n",
    "    \"\"\"\n",
    "    return (-f(x + 2*h) + 16*f(x + h) - 30*f(x) + 16*f(x - h) - f(x - 2*h)) / (12 * h**2)\n",
    "\n",
    "# Aplikasi\n",
    "d2f_central_o2 = central_diff2_o2(f, x, h)\n",
    "d2f_central_o4 = central_diff2_o4(f, x, h)\n",
    "\n",
    "# Tampilakn hasil\n",
    "print(\"\\n============================================\")\n",
    "print(\"Metode Tengah (Central):\")\n",
    "print(f\"O(h²): {d2f_central_o2:.6f}, Error: {abs(d2f_central_o2 - d2f_analytic):.6f}\")\n",
    "print(f\"O(h⁴): {d2f_central_o4:.6f}, Error: {abs(d2f_central_o4 - d2f_analytic):.6f}\")\n",
    "print(\"============================================\\n\")"
   ]
  }
 ],
 "metadata": {
  "kernelspec": {
   "display_name": "Python 3 (ipykernel)",
   "language": "python",
   "name": "python3"
  },
  "language_info": {
   "codemirror_mode": {
    "name": "ipython",
    "version": 3
   },
   "file_extension": ".py",
   "mimetype": "text/x-python",
   "name": "python",
   "nbconvert_exporter": "python",
   "pygments_lexer": "ipython3",
   "version": "3.13.2"
  }
 },
 "nbformat": 4,
 "nbformat_minor": 5
}
