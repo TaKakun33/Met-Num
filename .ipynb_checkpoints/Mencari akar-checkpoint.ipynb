{
 "cells": [
  {
   "cell_type": "markdown",
   "id": "627e7eb3-0c0f-40c3-bafc-31b676c76a83",
   "metadata": {},
   "source": [
    "# **Mencari akar**"
   ]
  },
  {
   "cell_type": "markdown",
   "id": "94744f23-c321-4a71-87f7-6daf6bea4a37",
   "metadata": {},
   "source": [
    "Dalam metode numerik, pencarian akar\n",
    "f(x) = 0 dilakukan secara lelaran (iteratif). \n",
    "Sampai saat ini sudah banyak ditemukan metode pencarian akar. Secara umum, semua metode pencarian akar tersebut dapat dikelompokkan menjadi dua golongan besar :\n",
    "1. Metode Tertutup(Biseksi dan Regula-Flasi)\n",
    "2. Metode Terbuka(Newton Apson dan Secant)"
   ]
  },
  {
   "cell_type": "markdown",
   "id": "bc34c819-6d6a-446a-b5d2-88632815b551",
   "metadata": {},
   "source": [
    "# Metode tertutup"
   ]
  },
  {
   "cell_type": "markdown",
   "id": "7891e37c-c3f9-4d45-8d1e-861ddf3ac301",
   "metadata": {},
   "source": [
    "Seperti yang telah dijelaskan, metode tertutup memerlukan selang [a,b] yang\n",
    "mengandung akar. Sebagaimana namanya, selang tersebut “mengurung” akar sejati.\n",
    "Tata-ancang (strategy) yang dipakai adalah mengurangi lebar selang secara\n",
    "sistematis sehingga lebar selang tersebut semakin sempit, dan karenanya menuju\n",
    "akar yang benar.<br>|\n",
    "Dalam sebuah selang mungkin terdapat lebih dari satu buah akar atau tidak ada\n",
    "akar sama sekali. Secara grafik dapat ditunjukkan bahwa jika:<br>\n",
    "1. $\\displaystyle f{{\\left({a}\\right)}} f{{\\left({b}\\right)}}<{0}$ <br>\n",
    "maka terdapat akar sebanyak bilangan ganjil<br>\n",
    "2. $\\displaystyle f{{\\left({a}\\right)}} f{{\\left({b}\\right)}}>{0}$ <br>\n",
    "maka terdapat akar sebanyak bilangan genap atau tidak ada akar sama sekali"
   ]
  },
  {
   "cell_type": "markdown",
   "id": "61e63fd4-5361-422e-a44b-5f439e77e039",
   "metadata": {},
   "source": [
    "## Metode Bisecection"
   ]
  },
  {
   "cell_type": "markdown",
   "id": "4baad754-87e2-4a38-b391-5b0a263f7521",
   "metadata": {},
   "source": [
    "Misalkan kita telah menentukan selang [a, b] sehingga f(a)f(b) < 0. Pada setiap\n",
    "kali lelaran, selang [a, b] kita bagi dua di x = c, sehingga terdapat dua buah\n",
    "upaselang yang berukuran sama, yaitu selang [a, c] dan [c, b]. Selang yang\n",
    "diambil untuk lelaran berikutnya adalah upaselang yang memuat akar, bergantung\n",
    "pada apakah f(a)f(c) < 0 atau f(c)f(b) < 0.<br>\n",
    "jika iya maka selang baru: [a, b]<-[a, c] <br>\n",
    "jika tidak maka selang baru: [a, b]<-[c, b]"
   ]
  },
  {
   "cell_type": "code",
   "execution_count": 50,
   "id": "1180f265-5f07-4ec2-b564-cb91fc01eb6b",
   "metadata": {},
   "outputs": [
    {
     "name": "stdout",
     "output_type": "stream",
     "text": [
      "0|a = 0.000000 | c = 0.500000 | b = 1.000000| e = 1.000000\n",
      "1|a = 0.500000 | c = 0.750000 | b = 1.000000| e = 0.500000\n",
      "2|a = 0.500000 | c = 0.625000 | b = 0.750000| e = 0.250000\n",
      "3|a = 0.500000 | c = 0.562500 | b = 0.625000| e = 0.125000\n",
      "4|a = 0.562500 | c = 0.593750 | b = 0.625000| e = 0.062500\n",
      "5|a = 0.593750 | c = 0.609375 | b = 0.625000| e = 0.031250\n",
      "6|a = 0.593750 | c = 0.601562 | b = 0.609375| e = 0.015625\n",
      "7|a = 0.601562 | c = 0.605469 | b = 0.609375| e = 0.007812\n",
      "8|a = 0.601562 | c = 0.603516 | b = 0.605469| e = 0.003906\n",
      "9|a = 0.603516 | c = 0.604492 | b = 0.605469| e = 0.001953\n",
      "10|a = 0.604492 | c = 0.604980 | b = 0.605469| e = 0.000977\n",
      "11|a = 0.604980 | c = 0.605225 | b = 0.605469| e = 0.000488\n",
      "12|a = 0.605225 | c = 0.605347 | b = 0.605469| e = 0.000244\n",
      "13|a = 0.605225 | c = 0.605286 | b = 0.605347| e = 0.000122\n",
      "14|a = 0.605225 | c = 0.605255 | b = 0.605286| e = 0.000061\n",
      "15|a = 0.605255 | c = 0.605270 | b = 0.605286| e = 0.000031\n",
      "16|a = 0.605255 | c = 0.605263 | b = 0.605270| e = 0.000015\n",
      "17|a = 0.605263 | c = 0.605263 | b = 0.605270| e = 0.000008\n",
      "hasilnya :0.6052627563476562\n"
     ]
    }
   ],
   "source": [
    "import numpy as np\n",
    "\n",
    "def Bisecection(f,a,b,e):\n",
    "    i = 0\n",
    "    \n",
    "    while abs(b-a) > e:\n",
    "        c = (a+b)/2\n",
    "        print(f\"{i}|a = {a:.6f} | c = {c:.6f} | b = {b:.6f}| e = {abs(a-b):.6f}\")\n",
    "        if f(c) == 0:\n",
    "            break\n",
    "        elif f(a)*f(c) < 0:\n",
    "            b = c\n",
    "        else:\n",
    "            a = c\n",
    "        i +=1\n",
    "\n",
    "    print(f\"{i}|a = {a:.6f} | c = {c:.6f} | b = {b:.6f}| e = {abs(a-b):.6f}\")\n",
    "    print(f\"hasilnya :{c}\")\n",
    "\n",
    "a = 0\n",
    "b = 1\n",
    "e = 0.00001\n",
    "f = lambda x: np.exp(x)-5*x**2 \n",
    "\n",
    "Bisecection(f,a,b,e)"
   ]
  },
  {
   "cell_type": "markdown",
   "id": "845eec5b-a64a-4af1-9141-d5ac99b2cd88",
   "metadata": {},
   "source": [
    "## Metode Regula-Falsi"
   ]
  },
  {
   "cell_type": "markdown",
   "id": "c6a7395a-ef81-489c-8f40-a49fb89aa47f",
   "metadata": {},
   "source": [
    "Metode yang\n",
    "memanfaatkan nilai f(a) dan f(b) ini adalah metode regula-falsi (bahasa Latin)\n",
    "atau metode posisi palsu. (false position method). Dengan metode regula-falsi,\n",
    "dibuat garis lurus yang menghubungkan titik (a, f(a)) dan (b, f(b)). Perpotongan\n",
    "garis tersebut dengan sumbu-x merupakan taksiran akar yang diperbaiki. Garis\n",
    "lurus tadi seolah-olah berlaku menggantikan kurva f(x) dan memberikan posisi\n",
    "palsu dari akar.<br>\n",
    "gradien garis AB = gradien garis BC <br>\n",
    "$\\displaystyle\\frac{{ f{{\\left({b}\\right)}}- f{{\\left({a}\\right)}}}}{{{b}-{a}}}=\\frac{{ f{{\\left({b}\\right)}}-{0}}}{{{b}-{c}}}$ <br>\n",
    "yang dapat disederhanakan menjadi<br>\n",
    "$\\displaystyle{c}={b}-\\frac{{ f{{\\left({b}\\right)}}-{\\left({b}-{a}\\right)}}}{{ f{{\\left({b}\\right)}}- f{{\\left({a}\\right)}}}}$"
   ]
  },
  {
   "cell_type": "code",
   "execution_count": 70,
   "id": "c3d08397-9631-42e7-b426-b84f922bbb72",
   "metadata": {},
   "outputs": [
    {
     "name": "stdout",
     "output_type": "stream",
     "text": [
      "0|a = 0.000000 | c = 0.304718 | b = 1.000000| e = 0.891976\n",
      "1|a = 0.304718 | c = 0.500129 | b = 1.000000| e = 0.398287\n",
      "2|a = 0.500129 | c = 0.574417 | b = 1.000000| e = 0.126319\n",
      "3|a = 0.574417 | c = 0.596742 | b = 1.000000| e = 0.035686\n",
      "4|a = 0.596742 | c = 0.602952 | b = 1.000000| e = 0.009750\n",
      "5|a = 0.602952 | c = 0.604641 | b = 1.000000| e = 0.002639\n",
      "6|a = 0.604641 | c = 0.605098 | b = 1.000000| e = 0.000713\n",
      "7|a = 0.605098 | c = 0.605222 | b = 1.000000| e = 0.000192\n",
      "8|a = 0.605222 | c = 0.605255 | b = 1.000000| e = 0.000052\n",
      "9|a = 0.605255 | c = 0.605264 | b = 1.000000| e = 0.000014\n",
      "10|a = 0.605264 | c = 0.605266 | b = 1.000000| e = 0.000004\n",
      "hasilnya :0.6052662264587769\n"
     ]
    }
   ],
   "source": [
    "import numpy as np\n",
    "\n",
    "def RegulaFalsi(f,a,b,e):\n",
    "    i = 0\n",
    "    c = b-(f(b)*(b-a)/(f(b)-f(a)))\n",
    "    while abs(f(c)) > e:\n",
    "        c = b-(f(b)*(b-a)/(f(b)-f(a)))\n",
    "        print(f\"{i}|a = {a:.6f} | c = {c:.6f} | b = {b:.6f}| e = {abs(f(c)):.6f}\")\n",
    "        if abs(f(c)) < e:\n",
    "            break\n",
    "        elif f(a)*f(c) < 0:\n",
    "            b = c\n",
    "        else:\n",
    "            a = c\n",
    "        i +=1\n",
    "    \n",
    "    print(f\"hasilnya :{c}\")\n",
    "\n",
    "a = 0\n",
    "b = 1\n",
    "e = 0.00001\n",
    "f = lambda x: np.exp(x)-5*x**2 \n",
    "\n",
    "RegulaFalsi(f,a,b,e)"
   ]
  },
  {
   "cell_type": "markdown",
   "id": "deba8e50-e401-4082-819f-1db0e2e16ed9",
   "metadata": {},
   "source": [
    "## Metode Regula-Falsi (Perbaikan)"
   ]
  },
  {
   "cell_type": "code",
   "execution_count": 76,
   "id": "ac81402f-7372-44e1-b113-1fd91716b0eb",
   "metadata": {},
   "outputs": [
    {
     "name": "stdout",
     "output_type": "stream",
     "text": [
      "0|a = 0.000000 | c = 0.304718 | b = 1.000000| e = 0.891976\n",
      "1|a = 0.304718 | c = 0.609797 | b = 1.000000| e = 0.019205\n",
      "2|a = 0.304718 | c = 0.603367 | b = 0.609797| e = 0.008005\n",
      "3|a = 0.603367 | c = 0.605259 | b = 0.609797| e = 0.000035\n",
      "4|a = 0.605259 | c = 0.605275 | b = 0.609797| e = 0.000035\n",
      "5|a = 0.605259 | c = 0.605267 | b = 0.605275| e = 0.000000\n",
      "hasilnya :0.6052671212486994\n"
     ]
    }
   ],
   "source": [
    "import numpy as np\n",
    "\n",
    "def RegulaFalsi(f,a,b,e):\n",
    "    i = 0\n",
    "    c =  b-(f(b)*(b-a)/(f(b)-f(a)))\n",
    "    \n",
    "    fa = f(a)\n",
    "    fb = f(b)\n",
    "    mandek_kanan = 1\n",
    "    mandek_kiri = 1\n",
    "    \n",
    "    while abs(f(c)) > e:\n",
    "        c =  b-(fb*(b-a)/(fb-fa))\n",
    "        fc = f(c)\n",
    "        print(f\"{i}|a = {a:.6f} | c = {c:.6f} | b = {b:.6f}| e = {abs(fc):.6f}\")\n",
    "        if abs(fc) < e:\n",
    "            break\n",
    "        elif fa * fc < 0:\n",
    "            b, fb = c, fc\n",
    "            mandek_kiri += 1\n",
    "            mandek_kanan = 0\n",
    "            if mandek_kiri > 1:\n",
    "                fa = fa/2\n",
    "        else:\n",
    "            a, fa = c, fc\n",
    "            mandek_kiri = 0\n",
    "            mandek_kanan += 1\n",
    "            if mandek_kanan > 1:\n",
    "                fb = fb/2\n",
    "        i +=1\n",
    "        \n",
    "    print(f\"hasilnya :{c}\")\n",
    "\n",
    "a = 0\n",
    "b = 1\n",
    "e = 0.000001\n",
    "f = lambda x: np.exp(x)-5*x**2 \n",
    "\n",
    "RegulaFalsi(f,a,b,e)"
   ]
  },
  {
   "cell_type": "markdown",
   "id": "e3fe8125-a4d1-4870-94e6-ac6be2723441",
   "metadata": {},
   "source": [
    "# Metode terbuka"
   ]
  },
  {
   "cell_type": "markdown",
   "id": "baaf1e56-35a2-4217-9602-fb5f0ecb38a9",
   "metadata": {},
   "source": [
    "Tidak seperti pada metode tertutup, metode terbuka tidak memerlukan selang yang\n",
    "mengurung akar. Yang diperlukan hanya sebuah tebakan awal akar atau dua buah\n",
    "tebakan yang tidak perlu mengurung akar. Inilah alasan mengapa metodenya\n",
    "dinamakan metode terbuka. Hampiran akar sekarang didasarkan pada hampiran\n",
    "akar sebelumnya melalui prosedur lelaran. Kadangkala lelaran konvergen ke akar\n",
    "sejati, kadangkala ia divergen. Namun, apabila lelarannya konvergen,\n",
    "konvergensinya itu berlangsung sangat cepat dibandingkan dengan metode\n",
    "tertutup.<br>\n",
    "Yang termasuk ke dalam metode terbuka:<br>\n",
    "1. Metode lelaran titik-tetap (fixed-point iteration)<br>\n",
    "2. Metode Newton-Raphson<br>\n",
    "3. Metode secant<br>"
   ]
  },
  {
   "cell_type": "markdown",
   "id": "873c1be9-89c0-4ffa-bc64-a1b3de9e7d5b",
   "metadata": {},
   "source": [
    "## Metode Metode lelaran titik-tetap (fixed-point iteration)"
   ]
  },
  {
   "cell_type": "markdown",
   "id": "8d9cf1dc-6a8a-4428-a467-fe05ec3d09b5",
   "metadata": {},
   "source": [
    "Metode ini kadang-kadang dinamakan juga metode lelaran sederhana, metode\n",
    "langsung, atau metode sulih beruntun. Kesederhanaan metode ini karena\n",
    "pembentukan prosedur lelarannya mudah dibentuk sebagai berikut: <br>\n",
    "Susunlah persamaan f(x) = 0 menjadi bentuk x = g(x). Lalu, bentuklah menjadi\n",
    "prosedur lelaran<br>\n",
    "$\\displaystyle{X}_{{{r}+{1}}}= g{{\\left({x}_{{r}}\\right)}}$<br>\n",
    "dan terkalah sebuah nilai awal x0, lalu hitung nilai x1 , x2 , x3 , ..., yang mudah-\n",
    "mudahan konvergen ke akar sejati s sedemikian sehingga<br>\n",
    "$\\displaystyle f{{\\left({s}\\right)}}={0}$ dan $\\displaystyle{s}= g{{\\left({s}\\right)}}$<br>\n",
    "Kondisi berhenti lelaran dinyatakan bila<br>\n",
    "$\\displaystyle{\\left|{{x}_{{{x}+{1}}}-{x}_{{r}}}\\right|}<ε$<br>\n",
    "atau bila menggunakan galat relatif hampiran<br>\n",
    "$\\displaystyle{\\left|{\\frac{{{x}_{{{r}+{1}}}-{x}_{{r}}}}{{{x}_{{{r}+{1}}}}}<\\delta}\\right|}$<br>\n",
    "dengan e dan d telah ditetapkan sebelumnya."
   ]
  },
  {
   "cell_type": "code",
   "execution_count": 10,
   "id": "bdd75232-0e62-4515-9bd6-1c90ddfb1375",
   "metadata": {},
   "outputs": [
    {
     "name": "stdout",
     "output_type": "stream",
     "text": [
      "0|x = 1.000000 | \n",
      "1|x = 0.737331 | e = 0.262669\n",
      "2|x = 0.646583 | e = 0.090748\n",
      "3|x = 0.617901 | e = 0.028682\n",
      "4|x = 0.609103 | e = 0.008798\n",
      "5|x = 0.606429 | e = 0.002674\n",
      "6|x = 0.605619 | e = 0.000810\n",
      "7|x = 0.605374 | e = 0.000245\n",
      "8|x = 0.605299 | e = 0.000074\n",
      "9|x = 0.605277 | e = 0.000022\n",
      "10|x = 0.605270 | e = 0.000007\n",
      "hasilnya :0.6052700719585762\n"
     ]
    }
   ],
   "source": [
    "import math\n",
    "import numpy as np\n",
    "\n",
    "\n",
    "def fixedPoint(g,x,e):\n",
    "    x_sebelumnya = 0\n",
    "    i = 0\n",
    "    \n",
    "    print(f\"{i}|x = {x:.6f} | \")\n",
    "    while abs(x - x_sebelumnya) > e:\n",
    "        if i > 50:\n",
    "            print(\"Divergen!\")\n",
    "            break\n",
    "        else:\n",
    "            x_sebelumnya = x\n",
    "            x = g(x_sebelumnya)\n",
    "            i += 1\n",
    "            print(f\"{i}|x = {x:.6f} | e = {abs(x - x_sebelumnya) :.6f}\")\n",
    "\n",
    "    print(f\"hasilnya :{x}\")\n",
    "\n",
    "x = 1\n",
    "e = 0.00001\n",
    "g = lambda x: math.sqrt(np.exp(x)/5)\n",
    "\n",
    "fixedPoint(g,x,e)"
   ]
  },
  {
   "cell_type": "markdown",
   "id": "f3a40c7e-d359-4da5-ba49-1404f3774bb9",
   "metadata": {},
   "source": [
    "## Metode Newton-Raphson3"
   ]
  },
  {
   "cell_type": "markdown",
   "id": "6a187d45-55c8-482f-8260-75bc02541365",
   "metadata": {},
   "source": [
    "Di antara semua metode pencarian akar, metode Newton-Raphsonlah yang paling\n",
    "terkenal dan paling banyak dipakai dalam terapan sains dan rekayasa. Metode ini\n",
    "paling disukai karena konvergensinya paling cepat diantara metode lainnya.<br>\n",
    "Ada dua pendekatan dalam menurunkan rumus metode Newton-Raphson, yaitu:<br>\n",
    "(a) penurunan rumus Newton-Raphson secara geometri,<br>\n",
    "(b) penurunan rumus Newton-Raphson dengan bantuan deret Taylor.<br>\n",
    "prosedur lelaran metode Newton-Raphson adalah<br>\n",
    "$\\displaystyle{x}_{{{r}+{1}}}={x}_{{r}}-\\frac{ f{{\\left({a}\\right)}}}{{{f}'{\\left({a}\\right)}}}$ , $\\displaystyle{f}'{\\left({x}_{{r}}\\right)}\\ne{0}.$"
   ]
  },
  {
   "cell_type": "code",
   "execution_count": 85,
   "id": "3ae4fa3f-c244-4047-a6b6-cafbc02f1cac",
   "metadata": {},
   "outputs": [
    {
     "name": "stdout",
     "output_type": "stream",
     "text": [
      "0|x = 1.000000 | \n",
      "1|x = 0.686651 | e = 0.313349\n",
      "2|x = 0.610741 | e = 0.075910\n",
      "3|x = 0.605296 | e = 0.005446\n",
      "4|x = 0.605267 | e = 0.000029\n",
      "5|x = 0.605267 | e = 0.000000\n",
      "hasilnya :0.6052671213146185\n"
     ]
    }
   ],
   "source": [
    "import numpy as np\n",
    "\n",
    "def NewtonRaphson(f,f_turunan,x,e):\n",
    "    x_sebelumnya = 0\n",
    "    i = 0\n",
    "    \n",
    "    print(f\"{i}|x = {x:.6f} | \")\n",
    "    while abs(x - x_sebelumnya) > e and i < 50:\n",
    "        if i > 50:\n",
    "            print(\"Divergen!\")\n",
    "            break\n",
    "        else:\n",
    "            x_sebelumnya = x\n",
    "            x = x-(f(x)/f_turunan(x))\n",
    "            i += 1\n",
    "            print(f\"{i}|x = {x:.6f} | e = {abs(x - x_sebelumnya) :.6f}\")\n",
    "    \n",
    "    print(f\"hasilnya :{x}\")\n",
    "\n",
    "x = 1\n",
    "e = 0.00001\n",
    "\n",
    "f = lambda x: np.exp(x)-5*x**2 \n",
    "f_turunan = lambda x: np.exp(x)-10*x\n",
    "\n",
    "NewtonRaphson(f,f_turunan,x,e)"
   ]
  },
  {
   "cell_type": "markdown",
   "id": "43a5087f-4712-4726-8367-6ef08a42011d",
   "metadata": {},
   "source": [
    "## Metode Secant"
   ]
  },
  {
   "cell_type": "markdown",
   "id": "41572439-ff1b-40c1-922b-445853177bd6",
   "metadata": {},
   "source": [
    "Prosedur lelaran metode Newton-Raphson memerlukan perhitungan turunan\n",
    "fungsi, f '(x). Sayangnya, tidak semua fungsi mudah dicari turunannya, terutama\n",
    "fungsi yang bentuknya rumit. Turunan fungsi dapat dihilangkan dengan cara menggantinya dengan bentuk lain yang ekivalen. Modifikasi metode Newton-\n",
    "Raphson ini dinamakan metode secant.<br>\n",
    "dapat kita hitung gradien:<br>\n",
    "$\\displaystyle{f}'{\\left({x}_{{r}}\\right)}=\\frac{{ f{{\\left({x}_{{r}}\\right)}}- f{{\\left({x}_{{{r}-{1}}}\\right)}}}}{{{x}_{{r}}-{x}{\\left({r}-{1}\\right)}}}$<br>\n",
    "ke dalam rumus Newton-Raphson:<br>\n",
    "$\\displaystyle{x}_{{{r}+{1}}}={x}_{{r}}-\\frac{ f{{\\left({a}\\right)}}}{{{f}'{\\left({a}\\right)}}}$ <br>\n",
    "sehingga diperoleh<br>\n",
    "$\\displaystyle{x}_{{{r}+{1}}}={x}_{{r}}-\\frac{{ f{{\\left({x}_{{r}}\\right)}}{\\left({x}_{{r}}-{x}_{{{r}-{1}}}\\right)}}}{{ f{{\\left({x}_{{r}}\\right)}}- f{{\\left({x}_{{{r}-{1}}}\\right)}}}}$"
   ]
  },
  {
   "cell_type": "code",
   "execution_count": 82,
   "id": "6393bb88-c857-4a09-8594-34bb2c8d5679",
   "metadata": {},
   "outputs": [
    {
     "name": "stdout",
     "output_type": "stream",
     "text": [
      "0|x = 1.000000 | \n",
      "1|x = 0.304718 | e = 0.695282\n",
      "2|x = 0.500129 | e = 0.195411\n",
      "3|x = 0.657779 | e = 0.157649\n",
      "4|x = 0.599614 | e = 0.058165\n",
      "5|x = 0.604993 | e = 0.005380\n",
      "6|x = 0.605269 | e = 0.000275\n",
      "7|x = 0.605267 | e = 0.000002\n",
      "hasilnya :0.6052671209150677\n"
     ]
    }
   ],
   "source": [
    "import numpy as np\n",
    "\n",
    "def Secant(f,x,e):\n",
    "    x_sebelumnya = 0\n",
    "    i = 0\n",
    "\n",
    "    print(f\"{i}|x = {x:.6f} | \")\n",
    "    while abs(x - x_sebelumnya) > e:\n",
    "        if i > 50:\n",
    "            print(\"Divergen!\")\n",
    "            break\n",
    "        else:\n",
    "            temp_x = x\n",
    "            x = x-(f(x)*(x - x_sebelumnya))/(f(x)-f(x_sebelumnya))\n",
    "            x_sebelumnya = temp_x\n",
    "            i += 1\n",
    "            print(f\"{i}|x = {x:.6f} | e = {abs(x - x_sebelumnya) :.6f}\")\n",
    "    \n",
    "    print(f\"hasilnya :{x}\")\n",
    "\n",
    "x = 1\n",
    "e = 0.00001\n",
    "f = lambda x: np.exp(x)-5*x**2 \n",
    "\n",
    "Secant(f,x,e)"
   ]
  },
  {
   "cell_type": "code",
   "execution_count": null,
   "id": "97a2a8d3-2ad6-4614-b952-09d487de009e",
   "metadata": {},
   "outputs": [],
   "source": []
  }
 ],
 "metadata": {
  "kernelspec": {
   "display_name": "Python 3 (ipykernel)",
   "language": "python",
   "name": "python3"
  },
  "language_info": {
   "codemirror_mode": {
    "name": "ipython",
    "version": 3
   },
   "file_extension": ".py",
   "mimetype": "text/x-python",
   "name": "python",
   "nbconvert_exporter": "python",
   "pygments_lexer": "ipython3",
   "version": "3.11.4"
  }
 },
 "nbformat": 4,
 "nbformat_minor": 5
}
