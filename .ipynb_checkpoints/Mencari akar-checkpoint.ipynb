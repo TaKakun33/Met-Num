{
 "cells": [
  {
   "cell_type": "markdown",
   "id": "bc34c819-6d6a-446a-b5d2-88632815b551",
   "metadata": {},
   "source": [
    "# Metode tertutup"
   ]
  },
  {
   "cell_type": "markdown",
   "id": "7891e37c-c3f9-4d45-8d1e-861ddf3ac301",
   "metadata": {},
   "source": [
    "Seperti yang telah dijelaskan, metode tertutup memerlukan selang [a,b] yang\n",
    "mengandung akar. Sebagaimana namanya, selang tersebut “mengurung” akar sejati.\n",
    "Tata-ancang (strategy) yang dipakai adalah mengurangi lebar selang secara\n",
    "sistematis sehingga lebar selang tersebut semakin sempit, dan karenanya menuju\n",
    "akar yang benar.<br>|\n",
    "Dalam sebuah selang mungkin terdapat lebih dari satu buah akar atau tidak ada\n",
    "akar sama sekali. Secara grafik dapat ditunjukkan bahwa jika:<br>\n",
    "1. $\\displaystyle f{{\\left({a}\\right)}} f{{\\left({b}\\right)}}<{0}$ <br>\n",
    "maka terdapat akar sebanyak bilangan ganjil<br>\n",
    "2. $\\displaystyle f{{\\left({a}\\right)}} f{{\\left({b}\\right)}}>{0}$ <br>\n",
    "maka terdapat akar sebanyak bilangan genap atau tidak ada akar sama sekali"
   ]
  },
  {
   "cell_type": "markdown",
   "id": "61e63fd4-5361-422e-a44b-5f439e77e039",
   "metadata": {},
   "source": [
    "## Metode Bisecection"
   ]
  },
  {
   "cell_type": "markdown",
   "id": "4baad754-87e2-4a38-b391-5b0a263f7521",
   "metadata": {},
   "source": [
    "Misalkan kita telah menentukan selang [a, b] sehingga f(a)f(b) < 0. Pada setiap\n",
    "kali lelaran, selang [a, b] kita bagi dua di x = c, sehingga terdapat dua buah\n",
    "upaselang yang berukuran sama, yaitu selang [a, c] dan [c, b]. Selang yang\n",
    "diambil untuk lelaran berikutnya adalah upaselang yang memuat akar, bergantung\n",
    "pada apakah f(a)f(c) < 0 atau f(c)f(b) < 0.<br>\n",
    "jika iya maka selang baru: [a, b]<-[a, c] <br>\n",
    "jika tidak maka selang baru: [a, b]<-[c, b]"
   ]
  },
  {
   "cell_type": "code",
   "execution_count": 34,
   "id": "1180f265-5f07-4ec2-b564-cb91fc01eb6b",
   "metadata": {},
   "outputs": [
    {
     "name": "stdout",
     "output_type": "stream",
     "text": [
      "a = 0.500000 | c = 0.500000 | b = 1.000000| e = 0.500000\n",
      "a = 0.500000 | c = 0.750000 | b = 0.750000| e = 0.250000\n",
      "a = 0.500000 | c = 0.625000 | b = 0.625000| e = 0.125000\n",
      "a = 0.562500 | c = 0.562500 | b = 0.625000| e = 0.062500\n",
      "a = 0.593750 | c = 0.593750 | b = 0.625000| e = 0.031250\n",
      "a = 0.593750 | c = 0.609375 | b = 0.609375| e = 0.015625\n",
      "a = 0.601562 | c = 0.601562 | b = 0.609375| e = 0.007812\n",
      "a = 0.601562 | c = 0.605469 | b = 0.605469| e = 0.003906\n",
      "a = 0.603516 | c = 0.603516 | b = 0.605469| e = 0.001953\n",
      "a = 0.604492 | c = 0.604492 | b = 0.605469| e = 0.000977\n",
      "a = 0.604980 | c = 0.604980 | b = 0.605469| e = 0.000488\n",
      "a = 0.605225 | c = 0.605225 | b = 0.605469| e = 0.000244\n",
      "a = 0.605225 | c = 0.605347 | b = 0.605347| e = 0.000122\n",
      "a = 0.605225 | c = 0.605286 | b = 0.605286| e = 0.000061\n",
      "a = 0.605255 | c = 0.605255 | b = 0.605286| e = 0.000031\n",
      "a = 0.605255 | c = 0.605270 | b = 0.605270| e = 0.000015\n",
      "a = 0.605263 | c = 0.605263 | b = 0.605270| e = 0.000008\n",
      "a = 0.605263 | c = 0.605263 | b = 0.605270| e = 0.000008\n",
      "hasilnya :0.6052627563476562\n"
     ]
    }
   ],
   "source": [
    "import numpy as np\n",
    "\n",
    "a = 0\n",
    "b = 1\n",
    "e = 0.00001\n",
    "\n",
    "f = lambda x: np.exp(x)-5*x**2 \n",
    "\n",
    "while abs(a-b) > e:\n",
    "    c = (a+b)/2\n",
    "    if f(a)*f(c) < 0:\n",
    "        b = c\n",
    "        print(f\"a = {a:.6f} | c = {c:.6f} | b = {b:.6f}| e = {abs(a-b):.6f}\")\n",
    "    else:\n",
    "        a = c\n",
    "        print(f\"a = {a:.6f} | c = {c:.6f} | b = {b:.6f}| e = {abs(a-b):.6f}\")\n",
    "\n",
    "print(f\"a = {a:.6f} | c = {c:.6f} | b = {b:.6f}| e = {abs(a-b):.6f}\")\n",
    "print(f\"hasilnya :{c}\")"
   ]
  },
  {
   "cell_type": "markdown",
   "id": "845eec5b-a64a-4af1-9141-d5ac99b2cd88",
   "metadata": {},
   "source": [
    "## Metode Regula-Falsi"
   ]
  },
  {
   "cell_type": "markdown",
   "id": "c6a7395a-ef81-489c-8f40-a49fb89aa47f",
   "metadata": {},
   "source": [
    "Metode yang\n",
    "memanfaatkan nilai f(a) dan f(b) ini adalah metode regula-falsi (bahasa Latin)\n",
    "atau metode posisi palsu. (false position method). Dengan metode regula-falsi,\n",
    "dibuat garis lurus yang menghubungkan titik (a, f(a)) dan (b, f(b)). Perpotongan\n",
    "garis tersebut dengan sumbu-x merupakan taksiran akar yang diperbaiki. Garis\n",
    "lurus tadi seolah-olah berlaku menggantikan kurva f(x) dan memberikan posisi\n",
    "palsu dari akar.<br>\n",
    "gradien garis AB = gradien garis BC <br>\n",
    "$\\displaystyle\\frac{{ f{{\\left({b}\\right)}}- f{{\\left({a}\\right)}}}}{{{b}-{a}}}=\\frac{{ f{{\\left({b}\\right)}}-{0}}}{{{b}-{c}}}$ <br>\n",
    "yang dapat disederhanakan menjadi<br>\n",
    "$\\displaystyle{c}={b}-\\frac{{ f{{\\left({b}\\right)}}-{\\left({b}-{a}\\right)}}}{{ f{{\\left({b}\\right)}}- f{{\\left({a}\\right)}}}}$"
   ]
  },
  {
   "cell_type": "code",
   "execution_count": 33,
   "id": "c3d08397-9631-42e7-b426-b84f922bbb72",
   "metadata": {},
   "outputs": [
    {
     "name": "stdout",
     "output_type": "stream",
     "text": [
      "a = 0.000000 | c = 0.304718 | b = 0.304718| e = 89.197647\n",
      "a = 2.820852 | c = 2.820852 | b = 0.304718| e = 607.556503\n",
      "a = 2.820852 | c = 0.398675 | b = 0.398675| e = 15.130260\n",
      "a = 2.820852 | c = 0.469750 | b = 0.469750| e = 9.562429\n",
      "a = 2.820852 | c = 0.519419 | b = 0.519419| e = 5.933230\n",
      "a = 2.820852 | c = 0.552181 | b = 0.552181| e = 3.625953\n",
      "a = 2.820852 | c = 0.572956 | b = 0.572956| e = 2.192022\n",
      "a = 2.820852 | c = 0.585797 | b = 0.585797| e = 1.315685\n",
      "a = 2.820852 | c = 0.593607 | b = 0.593607| e = 0.786116\n",
      "a = 2.820852 | c = 0.598310 | b = 0.598310| e = 0.468388\n",
      "a = 2.820852 | c = 0.601126 | b = 0.601126| e = 0.278603\n",
      "a = 2.820852 | c = 0.602805 | b = 0.602805| e = 0.165547\n",
      "a = 2.820852 | c = 0.603805 | b = 0.603805| e = 0.098309\n",
      "a = 2.820852 | c = 0.604399 | b = 0.604399| e = 0.058359\n",
      "a = 2.820852 | c = 0.604752 | b = 0.604752| e = 0.034636\n",
      "a = 2.820852 | c = 0.604961 | b = 0.604961| e = 0.020554\n",
      "a = 2.820852 | c = 0.605086 | b = 0.605086| e = 0.012196\n",
      "a = 2.820852 | c = 0.605159 | b = 0.605159| e = 0.007236\n",
      "a = 2.820852 | c = 0.605203 | b = 0.605203| e = 0.004294\n",
      "a = 2.820852 | c = 0.605229 | b = 0.605229| e = 0.002547\n",
      "a = 2.820852 | c = 0.605245 | b = 0.605245| e = 0.001511\n",
      "a = 2.820852 | c = 0.605254 | b = 0.605254| e = 0.000897\n",
      "a = 2.820852 | c = 0.605259 | b = 0.605259| e = 0.000532\n",
      "a = 2.820852 | c = 0.605262 | b = 0.605262| e = 0.000316\n",
      "a = 2.820852 | c = 0.605264 | b = 0.605264| e = 0.000187\n",
      "a = 2.820852 | c = 0.605265 | b = 0.605265| e = 0.000111\n",
      "a = 2.820852 | c = 0.605265 | b = 0.605265| e = 0.000111\n",
      "hasilnya :0.6052654674879461\n"
     ]
    }
   ],
   "source": [
    "import numpy as np\n",
    "\n",
    "a = 0\n",
    "b = 1\n",
    "c = 0\n",
    "\n",
    "e = 0.00001\n",
    "\n",
    "f = lambda x: np.exp(x)-5*x**2 \n",
    "fc = lambda a,b: b-(f(b)*(b-a)/(f(b)-f(a)))\n",
    "g = lambda a,b :abs((fc(a,b)-c)/fc(a,b))*100\n",
    "\n",
    "while g(a,b) > e and abs(f(c)) > e:\n",
    "    c = fc(a,b)\n",
    "    if f(a)*f(b) <0:\n",
    "        b = c\n",
    "        print(f\"a = {a:.6f} | c = {c:.6f} | b = {b:.6f}| e = {g(a,b):.6f}\")\n",
    "    elif f(a)*f(b) > 0:\n",
    "        a = c\n",
    "        print(f\"a = {a:.6f} | c = {c:.6f} | b = {b:.6f}| e = {g(a,b):.6f}\")\n",
    "    elif f(a)*f(b) == 0:\n",
    "        print(f\"a = {a:.6f} | c = {c:.6f} | b = {b:.6f}| e = {g(a,b):.6f}\")\n",
    "        break\n",
    "\n",
    "print(f\"a = {a:.6f} | c = {c:.6f} | b = {b:.6f}| e = {g(a,b):.6f}\")\n",
    "print(f\"hasilnya :{c}\")"
   ]
  },
  {
   "cell_type": "markdown",
   "id": "deba8e50-e401-4082-819f-1db0e2e16ed9",
   "metadata": {},
   "source": [
    "## Metode Regula-Falsi (Perbaikan)"
   ]
  },
  {
   "cell_type": "code",
   "execution_count": 30,
   "id": "ac81402f-7372-44e1-b113-1fd91716b0eb",
   "metadata": {},
   "outputs": [],
   "source": [
    "# idk, mybe coming soon"
   ]
  },
  {
   "cell_type": "markdown",
   "id": "e3fe8125-a4d1-4870-94e6-ac6be2723441",
   "metadata": {},
   "source": [
    "# Metode terbuka"
   ]
  },
  {
   "cell_type": "markdown",
   "id": "baaf1e56-35a2-4217-9602-fb5f0ecb38a9",
   "metadata": {},
   "source": [
    "Tidak seperti pada metode tertutup, metode terbuka tidak memerlukan selang yang\n",
    "mengurung akar. Yang diperlukan hanya sebuah tebakan awal akar atau dua buah\n",
    "tebakan yang tidak perlu mengurung akar. Inilah alasan mengapa metodenya\n",
    "dinamakan metode terbuka. Hampiran akar sekarang didasarkan pada hampiran\n",
    "akar sebelumnya melalui prosedur lelaran. Kadangkala lelaran konvergen ke akar\n",
    "sejati, kadangkala ia divergen. Namun, apabila lelarannya konvergen,\n",
    "konvergensinya itu berlangsung sangat cepat dibandingkan dengan metode\n",
    "tertutup.<br>\n",
    "Yang termasuk ke dalam metode terbuka:<br>\n",
    "1. Metode lelaran titik-tetap (fixed-point iteration)<br>\n",
    "2. Metode Newton-Raphson<br>\n",
    "3. Metode secant<br>"
   ]
  },
  {
   "cell_type": "markdown",
   "id": "873c1be9-89c0-4ffa-bc64-a1b3de9e7d5b",
   "metadata": {},
   "source": [
    "## Metode Metode lelaran titik-tetap (fixed-point iteration)"
   ]
  },
  {
   "cell_type": "markdown",
   "id": "8d9cf1dc-6a8a-4428-a467-fe05ec3d09b5",
   "metadata": {},
   "source": [
    "Metode ini kadang-kadang dinamakan juga metode lelaran sederhana, metode\n",
    "langsung, atau metode sulih beruntun. Kesederhanaan metode ini karena\n",
    "pembentukan prosedur lelarannya mudah dibentuk sebagai berikut: <br>\n",
    "Susunlah persamaan f(x) = 0 menjadi bentuk x = g(x). Lalu, bentuklah menjadi\n",
    "prosedur lelaran<br>\n",
    "$\\displaystyle{X}_{{{r}+{1}}}= g{{\\left({x}_{{r}}\\right)}}$<br>\n",
    "dan terkalah sebuah nilai awal x0, lalu hitung nilai x1 , x2 , x3 , ..., yang mudah-\n",
    "mudahan konvergen ke akar sejati s sedemikian sehingga<br>\n",
    "$\\displaystyle f{{\\left({s}\\right)}}={0}$ dan $\\displaystyle{s}= g{{\\left({s}\\right)}}$<br>\n",
    "Kondisi berhenti lelaran dinyatakan bila<br>\n",
    "$\\displaystyle{\\left|{{x}_{{{x}+{1}}}-{x}_{{r}}}\\right|}<ε$<br>\n",
    "atau bila menggunakan galat relatif hampiran<br>\n",
    "$\\displaystyle{\\left|{\\frac{{{x}_{{{r}+{1}}}-{x}_{{r}}}}{{{x}_{{{r}+{1}}}}}<\\delta}\\right|}$<br>\n",
    "dengan e dan d telah ditetapkan sebelumnya."
   ]
  },
  {
   "cell_type": "code",
   "execution_count": 26,
   "id": "bdd75232-0e62-4515-9bd6-1c90ddfb1375",
   "metadata": {},
   "outputs": [
    {
     "name": "stdout",
     "output_type": "stream",
     "text": [
      "x = 0.500000 | e = 0.500000\n",
      "x = 0.574234 | e = 0.074234\n",
      "x = 0.595948 | e = 0.021714\n",
      "x = 0.602453 | e = 0.006506\n",
      "x = 0.604416 | e = 0.001963\n",
      "x = 0.605010 | e = 0.000593\n",
      "x = 0.605189 | e = 0.000180\n",
      "x = 0.605244 | e = 0.000054\n",
      "x = 0.605260 | e = 0.000016\n",
      "x = 0.605265 | e = 0.000005\n",
      "hasilnya :0.605264961813998\n"
     ]
    }
   ],
   "source": [
    "import math\n",
    "import numpy as np\n",
    "\n",
    "x = 0.5\n",
    "e = 0.00001\n",
    "x_sebelumnya = 0\n",
    "i = 0\n",
    "\n",
    "g = lambda x: math.sqrt(np.exp(x)/5)\n",
    "\n",
    "while abs(x - x_sebelumnya) > e and i < 50:\n",
    "    print(f\"x = {x:.6f} | e = {abs(x - x_sebelumnya) :.6f}\")\n",
    "    x_sebelumnya = x\n",
    "    x = g(x)\n",
    "    i += 1\n",
    "\n",
    "print(f\"x = {x:.6f} | e = {abs(x - x_sebelumnya) :.6f}\")\n",
    "print(f\"hasilnya :{x}\")"
   ]
  },
  {
   "cell_type": "markdown",
   "id": "f3a40c7e-d359-4da5-ba49-1404f3774bb9",
   "metadata": {},
   "source": [
    "## Metode Newton-Raphson3"
   ]
  },
  {
   "cell_type": "markdown",
   "id": "6a187d45-55c8-482f-8260-75bc02541365",
   "metadata": {},
   "source": [
    "Di antara semua metode pencarian akar, metode Newton-Raphsonlah yang paling\n",
    "terkenal dan paling banyak dipakai dalam terapan sains dan rekayasa. Metode ini\n",
    "paling disukai karena konvergensinya paling cepat diantara metode lainnya.<br>\n",
    "Ada dua pendekatan dalam menurunkan rumus metode Newton-Raphson, yaitu:<br>\n",
    "(a) penurunan rumus Newton-Raphson secara geometri,<br>\n",
    "(b) penurunan rumus Newton-Raphson dengan bantuan deret Taylor.<br>\n",
    "prosedur lelaran metode Newton-Raphson adalah<br>\n",
    "$\\displaystyle{x}_{{{r}+{1}}}={x}_{{r}}-\\frac{ f{{\\left({a}\\right)}}}{{{f}'{\\left({a}\\right)}}}$ , $\\displaystyle{f}'{\\left({x}_{{r}}\\right)}\\ne{0}.$"
   ]
  },
  {
   "cell_type": "code",
   "execution_count": 28,
   "id": "3ae4fa3f-c244-4047-a6b6-cafbc02f1cac",
   "metadata": {},
   "outputs": [
    {
     "name": "stdout",
     "output_type": "stream",
     "text": [
      "x = 0.500000 | e = 0.500000\n",
      "x = 0.831561 | e = 0.331561\n",
      "x = 0.584783 | e = 0.246779\n",
      "x = 0.601577 | e = 0.016794\n",
      "x = 0.605342 | e = 0.003766\n",
      "x = 0.605267 | e = 0.000075\n",
      "x = 0.605267 | e = 0.000000\n",
      "hasilnya :0.6052671212950911\n"
     ]
    }
   ],
   "source": [
    "import numpy as np\n",
    "\n",
    "x = 0.5\n",
    "e = 0.00001\n",
    "x_sebelumnya = 0\n",
    "i = 0\n",
    "\n",
    "f = lambda x: np.exp(x)-5*x**2 \n",
    "\n",
    "while abs(x - x_sebelumnya) > e and i < 50:\n",
    "    print(f\"x = {x:.6f} | e = {abs(x - x_sebelumnya) :.6f}\")\n",
    "    temp_x = x\n",
    "    x = x-(f(x)*(x_sebelumnya-x))/(f(x_sebelumnya)-f(x))\n",
    "    x_sebelumnya = temp_x\n",
    "    i += 1\n",
    "\n",
    "print(f\"x = {x:.6f} | e = {abs(x - x_sebelumnya) :.6f}\")\n",
    "print(f\"hasilnya :{x}\")"
   ]
  },
  {
   "cell_type": "markdown",
   "id": "43a5087f-4712-4726-8367-6ef08a42011d",
   "metadata": {},
   "source": [
    "## Metode Secant"
   ]
  },
  {
   "cell_type": "markdown",
   "id": "41572439-ff1b-40c1-922b-445853177bd6",
   "metadata": {},
   "source": [
    "Prosedur lelaran metode Newton-Raphson memerlukan perhitungan turunan\n",
    "fungsi, f '(x). Sayangnya, tidak semua fungsi mudah dicari turunannya, terutama\n",
    "fungsi yang bentuknya rumit. Turunan fungsi dapat dihilangkan dengan cara menggantinya dengan bentuk lain yang ekivalen. Modifikasi metode Newton-\n",
    "Raphson ini dinamakan metode secant.<br>\n",
    "dapat kita hitung gradien:<br>\n",
    "$\\displaystyle{f}'{\\left({x}_{{r}}\\right)}=\\frac{{ f{{\\left({x}_{{r}}\\right)}}- f{{\\left({x}_{{{r}-{1}}}\\right)}}}}{{{x}_{{r}}-{x}{\\left({r}-{1}\\right)}}}$<br>\n",
    "ke dalam rumus Newton-Raphson:<br>\n",
    "$\\displaystyle{x}_{{{r}+{1}}}={x}_{{r}}-\\frac{ f{{\\left({a}\\right)}}}{{{f}'{\\left({a}\\right)}}}$ <br>\n",
    "sehingga diperoleh<br>\n",
    "$\\displaystyle{x}_{{{r}+{1}}}={x}_{{r}}-\\frac{{ f{{\\left({x}_{{r}}\\right)}}{\\left({x}_{{r}}-{x}_{{{r}-{1}}}\\right)}}}{{ f{{\\left({x}_{{r}}\\right)}}- f{{\\left({x}_{{{r}-{1}}}\\right)}}}}$"
   ]
  },
  {
   "cell_type": "code",
   "execution_count": 30,
   "id": "6393bb88-c857-4a09-8594-34bb2c8d5679",
   "metadata": {},
   "outputs": [
    {
     "name": "stdout",
     "output_type": "stream",
     "text": [
      "x = 0.500000 | e = 0.500000\n",
      "x = 0.618976 | e = 0.118976\n",
      "x = 0.605444 | e = 0.013532\n",
      "x = 0.605267 | e = 0.000177\n",
      "x = 0.605267 | e = 0.000000\n",
      "hasilnya :0.6052671213146193\n"
     ]
    }
   ],
   "source": [
    "import numpy as np\n",
    "\n",
    "x = 0.5\n",
    "e = 0.00001\n",
    "x_sebelumnya = 0\n",
    "i = 0\n",
    "\n",
    "f = lambda x: np.exp(x)-5*x**2 \n",
    "f_turunan = lambda x: np.exp(x)-10*x\n",
    "\n",
    "while abs(x - x_sebelumnya) > e and i < 50:\n",
    "    print(f\"x = {x:.6f} | e = {abs(x - x_sebelumnya) :.6f}\")\n",
    "    x_sebelumnya = x\n",
    "    x = x-(f(x)/f_turunan(x))\n",
    "    i += 1\n",
    "\n",
    "print(f\"x = {x:.6f} | e = {abs(x - x_sebelumnya) :.6f}\")\n",
    "print(f\"hasilnya :{x}\")"
   ]
  }
 ],
 "metadata": {
  "kernelspec": {
   "display_name": "Python 3 (ipykernel)",
   "language": "python",
   "name": "python3"
  },
  "language_info": {
   "codemirror_mode": {
    "name": "ipython",
    "version": 3
   },
   "file_extension": ".py",
   "mimetype": "text/x-python",
   "name": "python",
   "nbconvert_exporter": "python",
   "pygments_lexer": "ipython3",
   "version": "3.11.4"
  }
 },
 "nbformat": 4,
 "nbformat_minor": 5
}
