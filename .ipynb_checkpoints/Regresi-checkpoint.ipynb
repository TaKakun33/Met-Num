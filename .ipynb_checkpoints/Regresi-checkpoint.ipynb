{
 "cells": [
  {
   "cell_type": "markdown",
   "id": "a266470b-dffb-4b06-aeba-6cb66772cd6b",
   "metadata": {},
   "source": [
    "# Regresi Tunggal Linear"
   ]
  },
  {
   "cell_type": "code",
   "execution_count": 25,
   "id": "8dc8eced-aac0-4650-a943-e3cf0647b1ca",
   "metadata": {},
   "outputs": [
    {
     "name": "stdout",
     "output_type": "stream",
     "text": [
      "0.2861603375527426\n",
      "1.7645569620253165\n",
      "0.11946905512983108\n"
     ]
    }
   ],
   "source": [
    "def mean(Lx):\n",
    "    sum_x = sum(Lx)\n",
    "    n = len(Lx)\n",
    "    return sum_x/n\n",
    "\n",
    "\n",
    "def tunggalLinear(x,y):\n",
    "    x2 = []\n",
    "    xy = []\n",
    "    n = len(x)\n",
    "\n",
    "    for i in range(n):\n",
    "        hasil_x2 = (x[i])**2\n",
    "        hasil_xy = (x[i])*(y[i])\n",
    "        x2.append(hasil_x2)\n",
    "        xy.append(hasil_xy)\n",
    "\n",
    "    b = ((n*sum(xy))-(sum(x)*sum(y)))/((n*sum(x2))-(sum(x)**2))\n",
    "    a = mean(y)-(b*mean(x))\n",
    "\n",
    "    return a,b\n",
    "\n",
    "def galatRMS(x,y,a,b):\n",
    "    d = []\n",
    "    n = len(x)\n",
    "\n",
    "    for i in range(n):\n",
    "        hasil_fx =  a + (b*(x[i]))\n",
    "        hasil_d =  y[i] - hasil_fx\n",
    "        d.append(hasil_d**2)\n",
    "    e = (sum(d)/6)**0.5\n",
    "    return(e)\n",
    "\n",
    "x = [0.1,0.4,0.5,0.7,0.7,0.9]\n",
    "y = [0.61,0.92,0.99,1.52,1.47,2.03]\n",
    "\n",
    "a,b = tunggalLinear(x,y)\n",
    "\n",
    "print(a)\n",
    "print(b)\n",
    "\n",
    "print(galatRMS(x,y,a,b))"
   ]
  },
  {
   "cell_type": "code",
   "execution_count": null,
   "id": "4b59da9e-1c53-4a29-a1dc-8f034636c2d5",
   "metadata": {},
   "outputs": [],
   "source": []
  }
 ],
 "metadata": {
  "kernelspec": {
   "display_name": "Python 3 (ipykernel)",
   "language": "python",
   "name": "python3"
  },
  "language_info": {
   "codemirror_mode": {
    "name": "ipython",
    "version": 3
   },
   "file_extension": ".py",
   "mimetype": "text/x-python",
   "name": "python",
   "nbconvert_exporter": "python",
   "pygments_lexer": "ipython3",
   "version": "3.13.2"
  }
 },
 "nbformat": 4,
 "nbformat_minor": 5
}
