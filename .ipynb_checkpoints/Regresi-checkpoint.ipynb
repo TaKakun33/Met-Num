{
 "cells": [
  {
   "cell_type": "markdown",
   "id": "a266470b-dffb-4b06-aeba-6cb66772cd6b",
   "metadata": {},
   "source": [
    "# Regresi Tunggal Linear"
   ]
  },
  {
   "cell_type": "code",
   "execution_count": null,
   "id": "8dc8eced-aac0-4650-a943-e3cf0647b1ca",
   "metadata": {},
   "outputs": [],
   "source": [
    "def sum(Lx):\n",
    "    hasil = 0\n",
    "    for i in range(len(Lx)):\n",
    "        hasil += Lx[i]\n",
    "    return hasil\n",
    "        \n",
    "def mean(Lx):\n",
    "    n = len(Lx)\n",
    "    hasil = 0\n",
    "    hasil = 0\n",
    "    for i in range(n):\n",
    "        hasil += Lx[i]\n",
    "    return hasil/n\n",
    "\n",
    "\n",
    "def tunggalLinear(x,y):\n",
    "    x2 = []\n",
    "    xy = []\n",
    "    n = len(L)\n",
    "\n",
    "    for i in range(n):\n",
    "        hasil_x2 = (x[i])**2\n",
    "        hasil_xy = (x[i])*(y[i])\n",
    "        x2.append(hasil_x2)\n",
    "        xy.append(hasil_xy)\n",
    "\n",
    "    sum_x2 = sum(x2)\n",
    "    sum_xy = sum(xy)\n",
    "    avg_x = \n",
    "    \n",
    "\n",
    "    "
   ]
  },
  {
   "cell_type": "code",
   "execution_count": null,
   "id": "4b59da9e-1c53-4a29-a1dc-8f034636c2d5",
   "metadata": {},
   "outputs": [],
   "source": []
  }
 ],
 "metadata": {
  "kernelspec": {
   "display_name": "Python 3 (ipykernel)",
   "language": "python",
   "name": "python3"
  },
  "language_info": {
   "codemirror_mode": {
    "name": "ipython",
    "version": 3
   },
   "file_extension": ".py",
   "mimetype": "text/x-python",
   "name": "python",
   "nbconvert_exporter": "python",
   "pygments_lexer": "ipython3",
   "version": "3.13.2"
  }
 },
 "nbformat": 4,
 "nbformat_minor": 5
}
