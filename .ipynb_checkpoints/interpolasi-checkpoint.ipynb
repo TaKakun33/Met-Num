{
 "cells": [
  {
   "cell_type": "markdown",
   "id": "8395a374-fa3d-4727-8495-a5a2d55b614c",
   "metadata": {},
   "source": [
    "# Lagrange"
   ]
  },
  {
   "cell_type": "code",
   "execution_count": 78,
   "id": "0aac33fa-5f1a-43ba-bb5a-c1ec37ab7993",
   "metadata": {},
   "outputs": [
    {
     "name": "stdout",
     "output_type": "stream",
     "text": [
      "2.219224\n"
     ]
    }
   ],
   "source": [
    "def Lagrange(x,y,x_input):\n",
    "    n = len(x)\n",
    "    hasil = 0\n",
    "\n",
    "    for i in range(n):\n",
    "        L = 1\n",
    "        for j in range (n):\n",
    "            if j != i:\n",
    "                L *= (x_input -x[j])/(x[i]-x[j])\n",
    "        hasil += y[i] * L\n",
    "    return hasil\n",
    "        \n",
    "x = [8,9,9.5]\n",
    "y = [2.0794,2.1972,2.2513]\n",
    "print(Lagrange(x,y,9.2))"
   ]
  },
  {
   "cell_type": "markdown",
   "id": "6efafd7b-21dc-4da0-8a81-7d936eb4311a",
   "metadata": {},
   "source": [
    "# Polinomial Newton\n",
    "Polinomial Newton adalah interpolasi polinomial untuk suatu himpunan titik data yang diketahui. Polinomial ini dinamai dari penemunya, Isaac Newton. Terkadang, polinomial ini disebut interpolasi polinomial beda terbagi Newton karena koefisien dari polinomialnya dihitung menggunakan metode beda terbagi Newton.<br>\n",
    "Secara matematis, hal tersebut dapat dituliskan sebagai berikut <br>\n",
    "$\\displaystyle f{{\\left({x}\\right)}}={\\sum_{{{n}={0}}}^{\\infty}}{f}{\\left[{x}_{{i}},{x}_{{{i}-{1}}},..{x}_{{0}}\\right]}\\cdot{\\prod_{{{{}_{{{i}\\ne{j}}}^{{{j}={0}}}}}}^{{i}}}{\\left({x}-{x}_{{j}}\\right)}$"
   ]
  },
  {
   "cell_type": "code",
   "execution_count": 75,
   "id": "b184652a-6658-4c59-9a9e-ca12e87ab1be",
   "metadata": {},
   "outputs": [
    {
     "name": "stdout",
     "output_type": "stream",
     "text": [
      "2.219224\n"
     ]
    }
   ],
   "source": [
    "def rekursif_a(x,y,i,j):\n",
    "    if i == j:\n",
    "        return y[i]\n",
    "    else:\n",
    "       return (rekursif_a(x,y,i+1,j)-rekursif_a(x,y,i,j-1))/ (x[j]-x[i])\n",
    "        \n",
    "def produktori(x,x_input,a):\n",
    "    hasil = 1\n",
    "    \n",
    "    for i in range(a):\n",
    "        hasil *= (x_input-x[i])\n",
    "    return hasil\n",
    "\n",
    "def newton(x,f,x_input):\n",
    "    n = len(x)\n",
    "    output_f = 0\n",
    "    \n",
    "    for i in range(n):\n",
    "        output_f += rekursif_a(x,f,0,i)*produktori(x,x_input,i)\n",
    "    return output_f\n",
    "\n",
    "x = [8,9,9.5]\n",
    "f = [2.0794,2.1972,2.2513]\n",
    "print(newton(x,f,9.2))"
   ]
  },
  {
   "cell_type": "markdown",
   "id": "3d424637-d47b-4f70-a79a-836faabd8a68",
   "metadata": {},
   "source": [
    "# Neville"
   ]
  },
  {
   "cell_type": "code",
   "execution_count": 70,
   "id": "eab6504f-2030-41b5-aa78-1bfd896586de",
   "metadata": {},
   "outputs": [
    {
     "name": "stdout",
     "output_type": "stream",
     "text": [
      "2.219224\n"
     ]
    }
   ],
   "source": [
    "def neville(x,f,x_input):\n",
    "    k = len(x)-1\n",
    "\n",
    "    def rekursif_p(x,f,i,k,x_input):\n",
    "        if k == 0:\n",
    "            return f[i]\n",
    "        else:\n",
    "            return ((x_input-x[i])*rekursif_p(x,f,i+1,k-1,x_input)-(x_input-x[i+k])*rekursif_p(x,f,i,k-1,x_input))/(x[i+k]-x[i])\n",
    "\n",
    "    return rekursif_p(x,f,0,k,x_input)\n",
    "\n",
    "x = [8,9,9.5]\n",
    "f = [2.0794,2.1972,2.2513]\n",
    "print(neville(x,f,9.2))"
   ]
  }
 ],
 "metadata": {
  "kernelspec": {
   "display_name": "Python 3 (ipykernel)",
   "language": "python",
   "name": "python3"
  },
  "language_info": {
   "codemirror_mode": {
    "name": "ipython",
    "version": 3
   },
   "file_extension": ".py",
   "mimetype": "text/x-python",
   "name": "python",
   "nbconvert_exporter": "python",
   "pygments_lexer": "ipython3",
   "version": "3.13.2"
  }
 },
 "nbformat": 4,
 "nbformat_minor": 5
}
