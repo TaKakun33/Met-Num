{
 "cells": [
  {
   "cell_type": "markdown",
   "id": "627e7eb3-0c0f-40c3-bafc-31b676c76a83",
   "metadata": {},
   "source": [
    "# **Mencari akar**"
   ]
  },
  {
   "cell_type": "markdown",
   "id": "94744f23-c321-4a71-87f7-6daf6bea4a37",
   "metadata": {},
   "source": [
    "Dalam metode numerik, pencarian akar\n",
    "f(x) = 0 dilakukan secara lelaran (iteratif). \n",
    "Sampai saat ini sudah banyak ditemukan metode pencarian akar. Secara umum, semua metode pencarian akar tersebut dapat dikelompokkan menjadi dua golongan besar :\n",
    "1. Metode Tertutup(Biseksi dan Regula-Flasi)\n",
    "2. Metode Terbuka(Newton Apson dan Secant)"
   ]
  },
  {
   "cell_type": "markdown",
   "id": "bc34c819-6d6a-446a-b5d2-88632815b551",
   "metadata": {},
   "source": [
    "# Metode tertutup"
   ]
  },
  {
   "cell_type": "markdown",
   "id": "7891e37c-c3f9-4d45-8d1e-861ddf3ac301",
   "metadata": {},
   "source": [
    "Seperti yang telah dijelaskan, metode tertutup memerlukan selang [a,b] yang\n",
    "mengandung akar. Sebagaimana namanya, selang tersebut “mengurung” akar sejati.\n",
    "Tata-ancang (strategy) yang dipakai adalah mengurangi lebar selang secara\n",
    "sistematis sehingga lebar selang tersebut semakin sempit, dan karenanya menuju\n",
    "akar yang benar.<br>|\n",
    "Dalam sebuah selang mungkin terdapat lebih dari satu buah akar atau tidak ada\n",
    "akar sama sekali. Secara grafik dapat ditunjukkan bahwa jika:<br>\n",
    "1. $\\displaystyle f{{\\left({a}\\right)}} f{{\\left({b}\\right)}}<{0}$ <br>\n",
    "maka terdapat akar sebanyak bilangan ganjil<br>\n",
    "2. $\\displaystyle f{{\\left({a}\\right)}} f{{\\left({b}\\right)}}>{0}$ <br>\n",
    "maka terdapat akar sebanyak bilangan genap atau tidak ada akar sama sekali"
   ]
  },
  {
   "cell_type": "markdown",
   "id": "61e63fd4-5361-422e-a44b-5f439e77e039",
   "metadata": {},
   "source": [
    "## Metode Bisecection"
   ]
  },
  {
   "cell_type": "markdown",
   "id": "4baad754-87e2-4a38-b391-5b0a263f7521",
   "metadata": {},
   "source": [
    "Misalkan kita telah menentukan selang [a, b] sehingga f(a)f(b) < 0. Pada setiap\n",
    "kali lelaran, selang [a, b] kita bagi dua di x = c, sehingga terdapat dua buah\n",
    "upaselang yang berukuran sama, yaitu selang [a, c] dan [c, b]. Selang yang\n",
    "diambil untuk lelaran berikutnya adalah upaselang yang memuat akar, bergantung\n",
    "pada apakah f(a)f(c) < 0 atau f(c)f(b) < 0.<br>\n",
    "jika iya maka selang baru: [a, b]<-[a, c] <br>\n",
    "jika tidak maka selang baru: [a, b]<-[c, b]"
   ]
  },
  {
   "cell_type": "code",
   "execution_count": 84,
   "id": "1180f265-5f07-4ec2-b564-cb91fc01eb6b",
   "metadata": {},
   "outputs": [
    {
     "name": "stdout",
     "output_type": "stream",
     "text": [
      "+----+-------------------+--------------------+--------------------+-------------------+\n",
      "| i  |         a         |         c          |         b          |         e         |\n",
      "+----+-------------------+--------------------+--------------------+-------------------+\n",
      "| 0  |         0         |        0.5         |         1          |         1         |\n",
      "| 1  |        0.5        |        0.75        |         1          |        0.5        |\n",
      "| 2  |        0.5        |       0.625        |        0.75        |       0.25        |\n",
      "| 3  |        0.5        |       0.5625       |       0.625        |       0.125       |\n",
      "| 4  |      0.5625       |      0.59375       |       0.625        |      0.0625       |\n",
      "| 5  |      0.59375      |      0.609375      |       0.625        |      0.03125      |\n",
      "| 6  |      0.59375      |     0.6015625      |      0.609375      |     0.015625      |\n",
      "| 7  |     0.6015625     |     0.60546875     |      0.609375      |     0.0078125     |\n",
      "| 8  |     0.6015625     |    0.603515625     |     0.60546875     |    0.00390625     |\n",
      "| 9  |    0.603515625    |    0.6044921875    |     0.60546875     |    0.001953125    |\n",
      "| 10 |   0.6044921875    |   0.60498046875    |     0.60546875     |   0.0009765625    |\n",
      "| 11 |   0.60498046875   |   0.605224609375   |     0.60546875     |   0.00048828125   |\n",
      "| 12 |  0.605224609375   |  0.6053466796875   |     0.60546875     |  0.000244140625   |\n",
      "| 13 |  0.605224609375   |  0.60528564453125  |  0.6053466796875   |  0.0001220703125  |\n",
      "| 14 |  0.605224609375   | 0.605255126953125  |  0.60528564453125  |  6.103515625e-05  |\n",
      "| 15 | 0.605255126953125 | 0.6052703857421875 |  0.60528564453125  | 3.0517578125e-05  |\n",
      "| 16 | 0.605255126953125 | 0.6052627563476562 | 0.6052703857421875 | 1.52587890625e-05 |\n",
      "+----+-------------------+--------------------+--------------------+-------------------+\n",
      "hasilnya :0.6052627563476562\n"
     ]
    }
   ],
   "source": [
    "import numpy as np\n",
    "from tabulate import tabulate\n",
    "\n",
    "def Bisecection(f,a,b,e):\n",
    "    '''\n",
    "    fungsi untuk mencari akar dengan metode Bisection\n",
    "\n",
    "    parameters:\n",
    "    a(float) = titik a dari interval [a,b]\n",
    "    b(float) = titik b dari interval [a,b]\n",
    "    c(float) = titik untuk memperkirakan akarnya\n",
    "    e(float) = galat |a+b|\n",
    "    f(function) = fungsi yang mau di cari akarnya\n",
    "    i(int) = counter\n",
    "\n",
    "    data(list) = data untuk ditampilakan dalam tabulate\n",
    "    '''\n",
    "    \n",
    "    i = 0\n",
    "    c = (a+b)/2\n",
    "\n",
    "    # untuk tabulate\n",
    "    data = []                          \n",
    "    headers = [\"i\",\"a\", \"c\",\"b\",\"e\"]     \n",
    "    \n",
    "    while abs(a-b) > e:\n",
    "        c = (a+b)/2\n",
    "        data.append([i,a,c,b,abs(a-b)])  \n",
    "        if f(c) == 0:\n",
    "            break\n",
    "        elif f(a)*f(c) < 0:\n",
    "            b = c\n",
    "        else:\n",
    "            a = c\n",
    "        i +=1\n",
    "    \n",
    "    print(tabulate(data, headers=headers, tablefmt=\"pretty\")) \n",
    "    print(f\"hasilnya :{c}\")\n",
    "    \n",
    "# aplikasi \n",
    "a = 0\n",
    "b = 1\n",
    "e = 0.00001\n",
    "f = lambda x: np.exp(x)-5*x**2 \n",
    "\n",
    "Bisecection(f,a,b,e)"
   ]
  },
  {
   "cell_type": "markdown",
   "id": "845eec5b-a64a-4af1-9141-d5ac99b2cd88",
   "metadata": {},
   "source": [
    "## Metode Regula-Falsi"
   ]
  },
  {
   "cell_type": "markdown",
   "id": "c6a7395a-ef81-489c-8f40-a49fb89aa47f",
   "metadata": {},
   "source": [
    "Metode yang\n",
    "memanfaatkan nilai f(a) dan f(b) ini adalah metode regula-falsi (bahasa Latin)\n",
    "atau metode posisi palsu. (false position method). Dengan metode regula-falsi,\n",
    "dibuat garis lurus yang menghubungkan titik (a, f(a)) dan (b, f(b)). Perpotongan\n",
    "garis tersebut dengan sumbu-x merupakan taksiran akar yang diperbaiki. Garis\n",
    "lurus tadi seolah-olah berlaku menggantikan kurva f(x) dan memberikan posisi\n",
    "palsu dari akar.<br>\n",
    "gradien garis AB = gradien garis BC <br>\n",
    "$\\displaystyle\\frac{{ f{{\\left({b}\\right)}}- f{{\\left({a}\\right)}}}}{{{b}-{a}}}=\\frac{{ f{{\\left({b}\\right)}}-{0}}}{{{b}-{c}}}$ <br>\n",
    "yang dapat disederhanakan menjadi<br>\n",
    "$\\displaystyle{c}={b}-\\frac{{ f{{\\left({b}\\right)}}{\\left({b}-{a}\\right)}}}{{ f{{\\left({b}\\right)}}- f{{\\left({a}\\right)}}}}$"
   ]
  },
  {
   "cell_type": "code",
   "execution_count": 57,
   "id": "8c83fdd7-410f-4dae-8099-8ed01d877e36",
   "metadata": {},
   "outputs": [
    {
     "name": "stdout",
     "output_type": "stream",
     "text": [
      "+----+--------------------+--------------------+---+------------------------+\n",
      "| i  |         a          |         c          | b |           e            |\n",
      "+----+--------------------+--------------------+---+------------------------+\n",
      "| 0  |         0          | 0.3047184272775144 | 1 |   0.8919764685720636   |\n",
      "| 1  | 0.3047184272775144 | 0.5001294142268284 | 1 |   0.3982874976213009   |\n",
      "| 2  | 0.5001294142268284 | 0.5744173931788747 | 1 |   0.1263187521627307   |\n",
      "| 3  | 0.5744173931788747 | 0.5967422434777325 | 1 |  0.035685913791711155  |\n",
      "| 4  | 0.5967422434777325 | 0.6029520459140766 | 1 |  0.009749877704209098  |\n",
      "| 5  | 0.6029520459140766 | 0.6046414297116467 | 1 |  0.002639401344871173  |\n",
      "| 6  | 0.6046414297116467 | 0.6050982364543875 | 1 | 0.0007127346452624472  |\n",
      "| 7  | 0.6050982364543875 | 0.6052215524187794 | 1 | 0.00019233462832102255 |\n",
      "| 8  | 0.6052215524187794 | 0.6052548269778735 | 1 | 5.189291467955215e-05  |\n",
      "| 9  | 0.6052548269778735 | 0.6052638044282761 | 1 | 1.4000299381589087e-05 |\n",
      "| 10 | 0.6052638044282761 | 0.6052662264587769 | 1 | 3.7771203933445463e-06 |\n",
      "+----+--------------------+--------------------+---+------------------------+\n",
      "hasilnya :0.6052662264587769\n"
     ]
    }
   ],
   "source": [
    "import numpy as np\n",
    "\n",
    "\n",
    "def RegulaFalsi(f,a,b,e):\n",
    "    '''\n",
    "    fungsi untuk mencari akar dengan metode Reguka-Falsi\n",
    "\n",
    "    parameters:\n",
    "    a(float) = titik a dari interval [a,b]\n",
    "    b(float) = titik b dari interval [a,b]\n",
    "    c(float) = titik untuk memperkirakan akarnya\n",
    "    e(float) = galat |a+b|\n",
    "    f(function) = fungsi yang mau di cari akarnya\n",
    "    i(int) = counter\n",
    "\n",
    "    data(list) = data untuk ditampilakan dalam tabulate\n",
    "    '''\n",
    "    i = 0\n",
    "    c = b-(f(b)*(b-a)/(f(b)-f(a)))\n",
    "\n",
    "    # untuk tabulate\n",
    "    data = []                          \n",
    "    headers = [\"i\",\"a\", \"c\",\"b\",\"e\"]          \n",
    "\n",
    "    while abs(f(c)) > e:\n",
    "        c = b-(f(b)*(b-a)/(f(b)-f(a)))\n",
    "        data.append([i,a,c,b,abs(f(c))]) \n",
    "        if f(a)*f(c) < 0:\n",
    "            b = c\n",
    "        else:\n",
    "            a = c\n",
    "        i +=1\n",
    "        \n",
    "    print(tabulate(data, headers=headers, tablefmt=\"pretty\")) \n",
    "    print(f\"hasilnya :{c}\")\n",
    "\n",
    "# aplikasi\n",
    "a = 0\n",
    "b = 1\n",
    "e = 0.00001\n",
    "f = lambda x: np.exp(x)-5*x**2 \n",
    "\n",
    "RegulaFalsi(f,a,b,e)\n"
   ]
  },
  {
   "cell_type": "markdown",
   "id": "55f3deab-622c-43cb-bde6-6ce21817ce3d",
   "metadata": {},
   "source": [
    "## Metode Regula-Falsi (Perbaikan)"
   ]
  },
  {
   "cell_type": "code",
   "execution_count": 56,
   "id": "ac81402f-7372-44e1-b113-1fd91716b0eb",
   "metadata": {},
   "outputs": [
    {
     "name": "stdout",
     "output_type": "stream",
     "text": [
      "+---+--------------------+--------------------+--------------------+------------------------+\n",
      "| i |         a          |         c          |         b          |           e            |\n",
      "+---+--------------------+--------------------+--------------------+------------------------+\n",
      "| 0 |         0          | 0.3047184272775144 |         1          |   0.8919764685720636   |\n",
      "| 1 | 0.3047184272775144 | 0.6097971143239981 |         1          |  0.01920456370030843   |\n",
      "| 2 | 0.3047184272775144 | 0.6033671044011847 | 0.6097971143239981 |  0.008005091895781913  |\n",
      "| 3 | 0.6033671044011847 | 0.6052588159717753 | 0.6097971143239981 | 3.5055987158916224e-05 |\n",
      "| 4 | 0.6052588159717753 | 0.6052753241124511 | 0.6097971143239981 | 3.462370839302231e-05  |\n",
      "| 5 | 0.6052588159717753 | 0.6052671212486994 | 0.6052753241124511 | 2.7823987558406316e-10 |\n",
      "+---+--------------------+--------------------+--------------------+------------------------+\n",
      "hasilnya :0.6052671212486994\n"
     ]
    }
   ],
   "source": [
    "import numpy as np\n",
    "from tabulate import tabulate\n",
    "\n",
    "def RegulaFalsi(f,a,b,e):\n",
    "    '''\n",
    "    fungsi untuk mencari akar dengan metode Reguka-Falsi\n",
    "\n",
    "    parameters:\n",
    "    a(float) = titik a dari interval [a,b]\n",
    "    b(float) = titik b dari interval [a,b]\n",
    "    c(float) = titik untuk memperkirakan akarnya\n",
    "    e(float) = galat |a+b|\n",
    "    f(function) = fungsi yang mau di cari akarnya\n",
    "    i(int) = counter\n",
    "\n",
    "    data(list) = data untuk ditampilakan dalam tabulate\n",
    "    '''\n",
    "    \n",
    "    i = 0\n",
    "    c =  b-(f(b)*(b-a)/(f(b)-f(a)))\n",
    "\n",
    "    # untuk tabulate\n",
    "    data = []                          \n",
    "    headers = [\"i\",\"a\", \"c\",\"b\",\"e\"] \n",
    "    \n",
    "    fa = f(a)\n",
    "    fb = f(b)\n",
    "    mandek_kanan = 1\n",
    "    mandek_kiri = 1\n",
    "    \n",
    "    while abs(f(c)) > e:\n",
    "        c =  b-(fb*(b-a)/(fb-fa))\n",
    "        fc = f(c)\n",
    "        data.append([i, a,c,b,abs(f(c))]) \n",
    "        if fa * fc < 0:\n",
    "            b, fb = c, fc\n",
    "            mandek_kiri += 1\n",
    "            mandek_kanan = 0\n",
    "            if mandek_kiri > 1:\n",
    "                fa = fa/2\n",
    "        else:\n",
    "            a, fa = c, fc\n",
    "            mandek_kiri = 0\n",
    "            mandek_kanan += 1\n",
    "            if mandek_kanan > 1:\n",
    "                fb = fb/2\n",
    "        i +=1\n",
    "\n",
    "    print(tabulate(data, headers=headers, tablefmt=\"pretty\")) \n",
    "    print(f\"hasilnya :{c}\")\n",
    "\n",
    "a = 0\n",
    "b = 1\n",
    "e = 0.000001\n",
    "f = lambda x: np.exp(x)-5*x**2 \n",
    "\n",
    "RegulaFalsi(f,a,b,e)"
   ]
  },
  {
   "cell_type": "markdown",
   "id": "e3fe8125-a4d1-4870-94e6-ac6be2723441",
   "metadata": {},
   "source": [
    "# Metode terbuka"
   ]
  },
  {
   "cell_type": "markdown",
   "id": "baaf1e56-35a2-4217-9602-fb5f0ecb38a9",
   "metadata": {},
   "source": [
    "Tidak seperti pada metode tertutup, metode terbuka tidak memerlukan selang yang\n",
    "mengurung akar. Yang diperlukan hanya sebuah tebakan awal akar atau dua buah\n",
    "tebakan yang tidak perlu mengurung akar. Inilah alasan mengapa metodenya\n",
    "dinamakan metode terbuka. Hampiran akar sekarang didasarkan pada hampiran\n",
    "akar sebelumnya melalui prosedur lelaran. Kadangkala lelaran konvergen ke akar\n",
    "sejati, kadangkala ia divergen. Namun, apabila lelarannya konvergen,\n",
    "konvergensinya itu berlangsung sangat cepat dibandingkan dengan metode\n",
    "tertutup.<br>\n",
    "Yang termasuk ke dalam metode terbuka:<br>\n",
    "1. Metode lelaran titik-tetap (fixed-point iteration)<br>\n",
    "2. Metode Newton-Raphson<br>\n",
    "3. Metode secant<br>"
   ]
  },
  {
   "cell_type": "markdown",
   "id": "873c1be9-89c0-4ffa-bc64-a1b3de9e7d5b",
   "metadata": {},
   "source": [
    "## Metode Metode lelaran titik-tetap (fixed-point iteration)"
   ]
  },
  {
   "cell_type": "markdown",
   "id": "8d9cf1dc-6a8a-4428-a467-fe05ec3d09b5",
   "metadata": {},
   "source": [
    "Metode ini kadang-kadang dinamakan juga metode lelaran sederhana, metode\n",
    "langsung, atau metode sulih beruntun. Kesederhanaan metode ini karena\n",
    "pembentukan prosedur lelarannya mudah dibentuk sebagai berikut: <br>\n",
    "Susunlah persamaan f(x) = 0 menjadi bentuk x = g(x). Lalu, bentuklah menjadi\n",
    "prosedur lelaran<br>\n",
    "$\\displaystyle{X}_{{{r}+{1}}}= g{{\\left({x}_{{r}}\\right)}}$<br>\n",
    "dan terkalah sebuah nilai awal x0, lalu hitung nilai x1 , x2 , x3 , ..., yang mudah-\n",
    "mudahan konvergen ke akar sejati s sedemikian sehingga<br>\n",
    "$\\displaystyle f{{\\left({s}\\right)}}={0}$ dan $\\displaystyle{s}= g{{\\left({s}\\right)}}$<br>\n",
    "Kondisi berhenti lelaran dinyatakan bila<br>\n",
    "$\\displaystyle{\\left|{{x}_{{{x}+{1}}}-{x}_{{r}}}\\right|}<ε$<br>\n",
    "atau bila menggunakan galat relatif hampiran<br>\n",
    "$\\displaystyle{\\left|{\\frac{{{x}_{{{r}+{1}}}-{x}_{{r}}}}{{{x}_{{{r}+{1}}}}}<\\delta}\\right|}$<br>\n",
    "dengan e dan d telah ditetapkan sebelumnya."
   ]
  },
  {
   "cell_type": "code",
   "execution_count": 81,
   "id": "bdd75232-0e62-4515-9bd6-1c90ddfb1375",
   "metadata": {},
   "outputs": [
    {
     "name": "stdout",
     "output_type": "stream",
     "text": [
      "+----+--------------------+------------------------+\n",
      "| i  |         x          |           e            |\n",
      "+----+--------------------+------------------------+\n",
      "| 0  |         1          |           -            |\n",
      "| 1  | 0.7373305674470637 |   0.6279338114141546   |\n",
      "| 2  | 0.6465830212810866 |  0.18134138032331237   |\n",
      "| 3  | 0.6179007423076263 |  0.05397687069229917   |\n",
      "| 4  | 0.6091025801996374 |  0.016249265940731172  |\n",
      "| 5  | 0.6064289735968339 |  0.00490960957928821   |\n",
      "| 6  | 0.6056188389588387 | 0.0014850806911346215  |\n",
      "| 7  | 0.6053735722375275 | 0.0004493681499724289  |\n",
      "| 8  | 0.6052993377938146 | 0.00013598773511547257 |\n",
      "| 9  | 0.6052768711809559 | 4.115388933700892e-05  |\n",
      "| 10 | 0.6052700719585762 | 1.2454496486569155e-05 |\n",
      "| 11 | 0.6052680142791643 | 3.769143893661564e-06  |\n",
      "+----+--------------------+------------------------+\n",
      "hasilnya :0.6052680142791643\n"
     ]
    }
   ],
   "source": [
    "import math\n",
    "import numpy as np\n",
    "from tabulate import tabulate\n",
    "\n",
    "def fixedPoint(g,x,e):\n",
    "    x_sebelumnya = 0\n",
    "    i = 0\n",
    "    data = []                          \n",
    "    headers = [\"i\",\"x\",\"e\"] \n",
    "\n",
    "    data.append([i, x ,'-']) \n",
    "    while abs(f(x)) > e:\n",
    "        if i > 50:\n",
    "            print(\"Divergen!\")\n",
    "            break\n",
    "        else:\n",
    "            x_sebelumnya = x\n",
    "            x = g(x_sebelumnya)\n",
    "            i += 1\n",
    "            data.append([i,x,abs(f(x))]) \n",
    "\n",
    "    print(tabulate(data, headers=headers, tablefmt=\"pretty\")) \n",
    "    print(f\"hasilnya :{x}\")\n",
    "\n",
    "x = 1\n",
    "e = 0.00001\n",
    "g = lambda x: math.sqrt(np.exp(x)/5)\n",
    "\n",
    "fixedPoint(g,x,e)"
   ]
  },
  {
   "cell_type": "markdown",
   "id": "f3a40c7e-d359-4da5-ba49-1404f3774bb9",
   "metadata": {},
   "source": [
    "## Metode Newton-Raphson3"
   ]
  },
  {
   "cell_type": "markdown",
   "id": "6a187d45-55c8-482f-8260-75bc02541365",
   "metadata": {},
   "source": [
    "Di antara semua metode pencarian akar, metode Newton-Raphsonlah yang paling\n",
    "terkenal dan paling banyak dipakai dalam terapan sains dan rekayasa. Metode ini\n",
    "paling disukai karena konvergensinya paling cepat diantara metode lainnya.<br>\n",
    "Ada dua pendekatan dalam menurunkan rumus metode Newton-Raphson, yaitu:<br>\n",
    "(a) penurunan rumus Newton-Raphson secara geometri,<br>\n",
    "(b) penurunan rumus Newton-Raphson dengan bantuan deret Taylor.<br>\n",
    "prosedur lelaran metode Newton-Raphson adalah<br>\n",
    "$\\displaystyle{x}_{{{r}+{1}}}={x}_{{r}}-\\frac{ f{{\\left({a}\\right)}}}{{{f}'{\\left({a}\\right)}}}$ , $\\displaystyle{f}'{\\left({x}_{{r}}\\right)}\\ne{0}.$"
   ]
  },
  {
   "cell_type": "code",
   "execution_count": 79,
   "id": "3ae4fa3f-c244-4047-a6b6-cafbc02f1cac",
   "metadata": {},
   "outputs": [
    {
     "name": "stdout",
     "output_type": "stream",
     "text": [
      "+---+--------------------+------------------------+\n",
      "| i |         x          |           e            |\n",
      "+---+--------------------+------------------------+\n",
      "| 0 |         1          |           -            |\n",
      "| 1 | 0.6866511285126957 |   0.370398858067857    |\n",
      "| 2 | 0.6107413432557138 |  0.023228645756057986  |\n",
      "| 3 | 0.6052957898896435 | 0.00012101139854259202 |\n",
      "| 4 | 0.6052671221098207 | 3.356492639383646e-09  |\n",
      "+---+--------------------+------------------------+\n",
      "hasilnya :0.6052671221098207\n"
     ]
    }
   ],
   "source": [
    "import numpy as np\n",
    "from tabulate import tabulate\n",
    "\n",
    "def NewtonRaphson(f,f_turunan,x,e):\n",
    "    '''\n",
    "    fungsi untuk mencari akar dengan metode Reguka-Falsi\n",
    "\n",
    "    parameters:\n",
    "    x(float) = titik untuk memperkirakan akarnya\n",
    "    e(float) = galat |a+b|\n",
    "    f(function) = fungsi yang mau di cari akarnya\n",
    "    f_turunan(function) = fungsi turunan yang mau di cari akarnya\n",
    "    i(int) = counter\n",
    "\n",
    "    data(list) = data untuk ditampilakan dalam tabulate\n",
    "    '''\n",
    "    \n",
    "    x_sebelumnya = 0\n",
    "    i = 0\n",
    "    \n",
    "    # untuk tabulate\n",
    "    data = []                          \n",
    "    headers = [\"i\",\"x\",\"e\"] \n",
    "    \n",
    "    data.append([i, x, '-'])\n",
    "    while abs(f(x)) > e and i < 50:\n",
    "        if i > 50:\n",
    "            print(\"Divergen!\")\n",
    "            break\n",
    "        else:\n",
    "            x = x-(f(x)/f_turunan(x))\n",
    "            i += 1\n",
    "            data.append([i,x,abs(f(x))])\n",
    "\n",
    "    print(tabulate(data, headers=headers, tablefmt=\"pretty\")) \n",
    "    print(f\"hasilnya :{x}\")\n",
    "\n",
    "# Aplikasi\n",
    "x = 1\n",
    "e = 0.00001\n",
    "\n",
    "f = lambda x: np.exp(x)-5*x**2 \n",
    "f_turunan = lambda x: np.exp(x)-10*x\n",
    "\n",
    "NewtonRaphson(f,f_turunan,x,e)"
   ]
  },
  {
   "cell_type": "markdown",
   "id": "43a5087f-4712-4726-8367-6ef08a42011d",
   "metadata": {},
   "source": [
    "## Metode Secant"
   ]
  },
  {
   "cell_type": "markdown",
   "id": "41572439-ff1b-40c1-922b-445853177bd6",
   "metadata": {},
   "source": [
    "Prosedur lelaran metode Newton-Raphson memerlukan perhitungan turunan\n",
    "fungsi, f '(x). Sayangnya, tidak semua fungsi mudah dicari turunannya, terutama\n",
    "fungsi yang bentuknya rumit. Turunan fungsi dapat dihilangkan dengan cara menggantinya dengan bentuk lain yang ekivalen. Modifikasi metode Newton-\n",
    "Raphson ini dinamakan metode secant.<br>\n",
    "dapat kita hitung gradien:<br>\n",
    "$\\displaystyle{f}'{\\left({x}_{{r}}\\right)}=\\frac{{ f{{\\left({x}_{{r}}\\right)}}- f{{\\left({x}_{{{r}-{1}}}\\right)}}}}{{{x}_{{r}}-{x}{\\left({r}-{1}\\right)}}}$<br>\n",
    "ke dalam rumus Newton-Raphson:<br>\n",
    "$\\displaystyle{x}_{{{r}+{1}}}={x}_{{r}}-\\frac{ f{{\\left({a}\\right)}}}{{{f}'{\\left({a}\\right)}}}$ <br>\n",
    "sehingga diperoleh<br>\n",
    "$\\displaystyle{x}_{{{r}+{1}}}={x}_{{r}}-\\frac{{ f{{\\left({x}_{{r}}\\right)}}{\\left({x}_{{r}}-{x}_{{{r}-{1}}}\\right)}}}{{ f{{\\left({x}_{{r}}\\right)}}- f{{\\left({x}_{{{r}-{1}}}\\right)}}}}$"
   ]
  },
  {
   "cell_type": "code",
   "execution_count": 80,
   "id": "6393bb88-c857-4a09-8594-34bb2c8d5679",
   "metadata": {},
   "outputs": [
    {
     "name": "stdout",
     "output_type": "stream",
     "text": [
      "+---+--------------------+-----------------------+\n",
      "| i |         x          |           e           |\n",
      "+---+--------------------+-----------------------+\n",
      "| 0 |         1          |           -           |\n",
      "| 1 | 0.3047184272775144 |  0.8919764685720636   |\n",
      "| 2 | 0.5001294142268284 |  0.3982874976213009   |\n",
      "| 3 | 0.6577787796762202 |  0.2328651111887987   |\n",
      "| 4 | 0.5996137075498025 | 0.023732074178926643  |\n",
      "| 5 | 0.6049932591779646 | 0.0011556465282562822 |\n",
      "| 6 | 0.6052686287031551 | 6.362590433184323e-06 |\n",
      "+---+--------------------+-----------------------+\n",
      "hasilnya :0.6052686287031551\n"
     ]
    }
   ],
   "source": [
    "import numpy as np\n",
    "from tabulate import tabulate\n",
    "\n",
    "def Secant(f,x,e):\n",
    "    '''\n",
    "    fungsi untuk mencari akar dengan metode Reguka-Falsi\n",
    "\n",
    "    parameters:\n",
    "    x(float) = titik untuk memperkirakan akarnya\n",
    "    x_sebelumnya(float) = titik x-1\n",
    "    e(float) = galat |a+b|\n",
    "    f(function) = fungsi yang mau di cari akarnya\n",
    "    i(int) = counter\n",
    "\n",
    "    data(list) = data untuk ditampilakan dalam tabulate\n",
    "    '''\n",
    "    x_sebelumnya = 0\n",
    "    i = 0\n",
    "    data = []                          \n",
    "    headers = [\"i\",\"x\",\"e\"] \n",
    "\n",
    "    data.append([i, x, '-'])\n",
    "    while abs(f(x)) > e:\n",
    "        if i > 50:\n",
    "            print(\"Divergen!\")\n",
    "            break\n",
    "        else:\n",
    "            temp_x = x\n",
    "            x = x-(f(x)*(x - x_sebelumnya))/(f(x)-f(x_sebelumnya))\n",
    "            x_sebelumnya = temp_x\n",
    "            i += 1\n",
    "            data.append([i,x,abs(f(x))])\n",
    "\n",
    "    print(tabulate(data, headers=headers, tablefmt=\"pretty\")) \n",
    "    print(f\"hasilnya :{x}\")\n",
    "\n",
    "x = 1\n",
    "e = 0.00001\n",
    "f = lambda x: np.exp(x)-5*x**2 \n",
    "\n",
    "Secant(f,x,e)"
   ]
  }
 ],
 "metadata": {
  "kernelspec": {
   "display_name": "Python 3 (ipykernel)",
   "language": "python",
   "name": "python3"
  },
  "language_info": {
   "codemirror_mode": {
    "name": "ipython",
    "version": 3
   },
   "file_extension": ".py",
   "mimetype": "text/x-python",
   "name": "python",
   "nbconvert_exporter": "python",
   "pygments_lexer": "ipython3",
   "version": "3.13.2"
  }
 },
 "nbformat": 4,
 "nbformat_minor": 5
}
