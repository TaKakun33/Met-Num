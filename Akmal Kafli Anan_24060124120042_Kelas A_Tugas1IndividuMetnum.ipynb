{
 "cells": [
  {
   "cell_type": "markdown",
   "id": "d56c59b3-f587-4425-a9ae-eb672a63d89e",
   "metadata": {},
   "source": [
    "# **Tugas Individu 1**\n",
    "#### Nama = Akmal Kafli Anan\n",
    "#### NIM  = 24060124120042\n",
    "#### Kelas  = A"
   ]
  },
  {
   "cell_type": "code",
   "execution_count": 26,
   "id": "011b6942-57b9-41ef-8625-368afba39005",
   "metadata": {},
   "outputs": [],
   "source": [
    "# Libary\n",
    "import numpy as np\n",
    "import sympy as sp\n",
    "from tabulate import tabulate"
   ]
  },
  {
   "cell_type": "markdown",
   "id": "72c1a6c9-472f-4d46-a5a7-8e1068613b13",
   "metadata": {},
   "source": [
    "## *Deret Taylor*\n",
    "Deret Taylor dari sebuah fungsi riil atau fungsi kompleks f(x) yang terdiferensialkan takhingga dalam sebuah pemetaan sebuah bilangan riil atau kompleks a adalah deret pangkat <br>\n",
    "$\\displaystyle f(x)=f(a)+{\\frac {f'(a)}{1!}}(x-a)+{\\frac {f''(a)}{2!}}(x-a)^{2}+{\\frac {f^{(3)}(a)}{3!}}(x-a)^{3}+\\cdots $ <br>\n",
    "yang dalam bentuk lebih ringkas dapat dituliskan sebagai <br>\n",
    "$\\displaystyle f(x)=\\sum _{n=0}^{\\infty }{\\frac {f^{(n)}(a)}{n!}}\\,(x-a)^{n}$ <br>"
   ]
  },
  {
   "cell_type": "code",
   "execution_count": 20,
   "id": "51d455b5-7ef0-4025-910f-389d76ea7b46",
   "metadata": {},
   "outputs": [],
   "source": [
    "def turunan(f,a,n):\n",
    "    '''\n",
    "    Fungsi untuk mencari turunan dari f\n",
    "\n",
    "    parameters:\n",
    "    f(function) = fungsi yang mau diturunkan\n",
    "    a(float) = nilai dari x\n",
    "    n(int) = ordo turunan\n",
    "    '''\n",
    "    \n",
    "    x = sp.symbols('x')                                 # mendefinisikan variabel simbolik\n",
    "    turunan = sp.diff(f(x), x, n)                       # menghitung turunan ke -n\n",
    "    f_prime = sp.lambdify(x, turunan, 'numpy')          # konvensi ko fungsi lambda\n",
    "    return f_prime(a)\n",
    "\n",
    "def DeretTaylor(f, x, a, n):\n",
    "    '''\n",
    "    Fungsi untuk mencari nilai x dari deret taylor\n",
    "\n",
    "    parameters:\n",
    "    f(function) = fungsi yang mau diturunkan\n",
    "    x(float) = nilai yang mau di cari\n",
    "    a(float) = titik pusat\n",
    "    n(int) = banyak iterasi\n",
    "    '''\n",
    "    \n",
    "    hasil = 0                          # deklarasi varible untuk hasil perulangan\n",
    "    data = []                          # deklarasi list untuk data tabulate\n",
    "    headers = [\"n\", \"Output\"]          # header dari tabulate\n",
    "    \n",
    "    # perulangan dari 0 - n\n",
    "    for i in range(n + 1):\n",
    "        derivative = turunan(f, a, i)                                 # turunan \n",
    "        hasil = hasil + ((derivative/sp.factorial(i))*(x-a)**i)       # menghitung hasil + hasil sebelumnya\n",
    "        data.append([i, hasil])                                       # menambah hasil pada tabulate\n",
    "\n",
    "    nilai_sejati = f(x)                # nilai sejati fungsi tersebut\n",
    "    galat = abs(nilai_sejati-hasil)    # mencari galat sejati\n",
    "    \n",
    "    print(tabulate(data, headers=headers, tablefmt=\"pretty\"))    # meng-print table dari tabulate\n",
    "    print(f\"Nilai hampiran = {hasil}\")                           # meng-print hasil akhir dari deret taylor\n",
    "\n"
   ]
  },
  {
   "cell_type": "markdown",
   "id": "83174252-1ca8-4afd-a0cc-e4d142f5369d",
   "metadata": {},
   "source": [
    "### Deret taylor untuk cos(x) dengan x = 0,2, a = 1 dan n = 5"
   ]
  },
  {
   "cell_type": "code",
   "execution_count": 7,
   "id": "b4ce0a2e-b803-4855-9811-59168a197a48",
   "metadata": {},
   "outputs": [
    {
     "name": "stdout",
     "output_type": "stream",
     "text": [
      "============================Untuk fungsi Cos(x)============================\n",
      "+---+-------------------+\n",
      "| n |      Output       |\n",
      "+---+-------------------+\n",
      "| 0 | 0.540302305868140 |\n",
      "| 1 | 1.21347909371446  |\n",
      "| 2 | 1.04058235583665  |\n",
      "| 3 | 0.968776831799712 |\n",
      "| 4 | 0.977997991153195 |\n",
      "| 5 | 0.980295767922377 |\n",
      "+---+-------------------+\n",
      "Nilai hampiran = 0.980295767922377\n"
     ]
    }
   ],
   "source": [
    "#Aplikasi\n",
    "\n",
    "print(\"============================Untuk fungsi Cos(x)============================\")\n",
    "f = lambda x : sp.cos(x)\n",
    "DeretTaylor(f,0.2,1,5)"
   ]
  },
  {
   "cell_type": "markdown",
   "id": "08c79413-2cd3-4d03-bcc4-8773615923b5",
   "metadata": {},
   "source": [
    "### Deret taylor untuk $\\displaystyle\\frac{1}{{{1}-{2x}}}$ dengan x = 0,2, a = 1 dan n = 5"
   ]
  },
  {
   "cell_type": "code",
   "execution_count": 18,
   "id": "e33efcaf-f7af-4512-a694-383c369e4f57",
   "metadata": {},
   "outputs": [
    {
     "name": "stdout",
     "output_type": "stream",
     "text": [
      "============================Untuk fungsi 1/1-2x============================\n",
      "+---+-------------------+\n",
      "| n |      Output       |\n",
      "+---+-------------------+\n",
      "| 0 | -1.00000000000000 |\n",
      "| 1 | -2.60000000000000 |\n",
      "| 2 | -5.16000000000000 |\n",
      "| 3 | -9.25600000000000 |\n",
      "| 4 | -15.8096000000000 |\n",
      "| 5 | -26.2953600000000 |\n",
      "+---+-------------------+\n",
      "Nilai hampiran = -26.2953600000000\n"
     ]
    }
   ],
   "source": [
    "# Aplikasi\n",
    "print(\"============================Untuk fungsi 1/1-2x============================\")\n",
    "g = lambda x : 1/(1-2*x)\n",
    "DeretTaylor(g,0.2,1,5)    "
   ]
  },
  {
   "cell_type": "markdown",
   "id": "570862e6-9dc9-4274-8203-de795c645531",
   "metadata": {},
   "source": [
    "## *Deret Maclaurin*\n",
    "Kasus khusus adalah bila fungsi diperluas di sekitar a = 0, maka deretnya dinamakan deret Maclaurin, yang merupakan deret Taylor baku. Kasus a = 0 paling sering muncul dalam praktek. <br>\n",
    "$\\displaystyle f(x)=f(0)+{\\frac {f'(0)}{1!}}(x)+{\\frac {f''(0)}{2!}}(x)^{2}+{\\frac {f^{(3)}(0)}{3!}}(x)^{3}+\\cdots $ <br>\n",
    "yang dalam bentuk lebih ringkas dapat dituliskan sebagai <br>\n",
    "$\\displaystyle f(x)=\\sum _{n=0}^{\\infty }{\\frac {f^{(n)}(0)}{n!}}\\,(x)^{n}$ <br>\n",
    "\n",
    "2. untuk $\\displaystyle\\frac{1}{{{1}-{2x}}}$<br>\n",
    "    $\\displaystyle\\frac{1}{{{1}-{2x}}}= \\sum _{n=0}^{\\infty } 2x^n$"
   ]
  },
  {
   "cell_type": "markdown",
   "id": "3e5589ca-b591-4eee-999a-2e52215294cb",
   "metadata": {},
   "source": [
    "1. untuk cos(x) <br>\n",
    "   $\\displaystyle \\cos{{x}} = \\sum _{n=0}^{\\infty }{\\frac {(-1)^n}{(2n)!}}\\,x^{2n} = $ $\\displaystyle{1}-\\frac{{x}^{2}}{{{2}!}}+\\frac{{x}^{4}}{{{4}!}}$<br><br>"
   ]
  },
  {
   "cell_type": "code",
   "execution_count": 24,
   "id": "9d9708de-ff73-486b-8217-7356ddd856b2",
   "metadata": {},
   "outputs": [
    {
     "name": "stdout",
     "output_type": "stream",
     "text": [
      "============================Untuk fungsi Cos(x)============================\n",
      "+---+-------------------+\n",
      "| n |      Output       |\n",
      "+---+-------------------+\n",
      "| 0 | 1.00000000000000  |\n",
      "| 1 | 0.980000000000000 |\n",
      "| 2 | 0.980066666666667 |\n",
      "| 3 | 0.980066577777778 |\n",
      "| 4 | 0.980066577841270 |\n",
      "| 5 | 0.980066577841242 |\n",
      "+---+-------------------+\n",
      "Nilai hampiran = 0.980066577841242\n",
      "Nilai sejati = 0.980066577841242\n",
      "Galat = 0\n",
      "\n"
     ]
    }
   ],
   "source": [
    "def Maclaurin_cos(x,n):\n",
    "    '''\n",
    "    Fungsi untuk mencari nilai hampiran dari fungsi cos(x)\n",
    "\n",
    "    parameters:\n",
    "    x(float) = nilai yang mau di cari\n",
    "    n(int) = banyak iterasi\n",
    "    '''\n",
    "    \n",
    "    hasil = 0                          # deklarasi varible untuk hasil perulangan\n",
    "    data = []                          # deklarasi list untuk data tabulate \n",
    "    headers = [\"n\", \"Output\"]          # header dari tabulate\n",
    "    # perulangan dari 0 - n\n",
    "    \n",
    "    for i in range(n + 1):\n",
    "        hasil = hasil + ((-1)**i) * (x**(2*i)) / sp.factorial(2*i)    # menghitung hasil + hasil sebelumnya\n",
    "        data.append([i, hasil])                                       # menambah hasil pada tabulate\n",
    "        \n",
    "    nilai_sejati = sp.cos(x)           # nilai sejati fungsi tersebut\n",
    "    galat = abs(nilai_sejati-hasil)    # mencari galat sejati\n",
    "                                                              \n",
    "    print(tabulate(data, headers=headers, tablefmt=\"pretty\"))     # meng-print table dari tabulate\n",
    "    print(f\"Nilai hampiran = {hasil}\")                            # meng-print hasil akhir dari deret taylor   \n",
    "    print (f\"Nilai sejati = {nilai_sejati}\")                      # meng-print nilai sejati\n",
    "    print (f\"Galat = {galat}\\n\")                                  # meng-print nilai sejati\n",
    "\n",
    "\n",
    "# Aplikasi\n",
    "print(\"============================Untuk fungsi Cos(x)============================\")\n",
    "Maclaurin_cos(0.2,5)"
   ]
  },
  {
   "cell_type": "code",
   "execution_count": 25,
   "id": "ff707832-8f5d-4476-947e-c37b9aecc076",
   "metadata": {},
   "outputs": [
    {
     "name": "stdout",
     "output_type": "stream",
     "text": [
      "============================Untuk fungsi 1/1-2x============================\n",
      "+---+--------------------+\n",
      "| n |       Output       |\n",
      "+---+--------------------+\n",
      "| 0 |        1.0         |\n",
      "| 1 |        1.4         |\n",
      "| 2 |        1.56        |\n",
      "| 3 |       1.624        |\n",
      "| 4 | 1.6496000000000002 |\n",
      "| 5 | 1.6598400000000002 |\n",
      "+---+--------------------+\n",
      "Nilai hampiran = 1.6598400000000002\n",
      "Nilai sejati = 1.6666666666666667\n",
      "Galat = 0.0068266666666665365\n",
      "\n"
     ]
    }
   ],
   "source": [
    "# Fungsi untuk mencari nilai hampiran dari fungsi 1/1-2x (x = nilai, n = suku)\n",
    "def Maclaurin_2x(x,n):\n",
    "    '''\n",
    "    Fungsi untuk mencari nilai hampiran dari fungsi 1/1-2x\n",
    "\n",
    "    parameters:\n",
    "    x(float) = nilai yang mau di cari\n",
    "    n(int) = banyak iterasi\n",
    "    '''\n",
    "    \n",
    "    hasil = 0                          # deklarasi varible untuk hasil perulangan\n",
    "    data = []                          # deklarasi list untuk data tabulate \n",
    "    headers = [\"n\", \"Output\"]          # header dari tabulate\n",
    "    \n",
    "    # perulangan dari 0 - n\n",
    "    for i in range(n + 1):\n",
    "        hasil = hasil + ((2*x)**i)                                     # menghitung hasil + hasil sebelumnya\n",
    "        data.append([i, hasil])                                        # menambah hasil pada tabulate\n",
    "\n",
    "    nilai_sejati = 1/(1-2*x)           # nilai sejati fungsi tersebut\n",
    "    galat = abs(nilai_sejati-hasil)    # mencari galat sejati\n",
    "        \n",
    "    print(tabulate(data, headers=headers, tablefmt=\"pretty\"))     # meng-print table dari tabulate\n",
    "    print(f\"Nilai hampiran = {hasil}\")                            # meng-print hasil akhir dari deret taylor\n",
    "    print (f\"Nilai sejati = {nilai_sejati}\")                      # meng-print nilai sejati\n",
    "    print (f\"Galat = {galat}\\n\")                                  # meng-print nilai sejati\n",
    "\n",
    "# Untuk fungsi 1/1-2x dengan x = 0.2, a = 0, dan n = 5\n",
    "print(\"============================Untuk fungsi 1/1-2x============================\")\n",
    "Maclaurin_2x(0.2,5)"
   ]
  },
  {
   "cell_type": "markdown",
   "id": "15129af1-ad1b-425c-bb47-00b3f9151fad",
   "metadata": {},
   "source": [
    "Dari code tersebut dapat diketahui: <br>\n",
    "1. fungsi cos(x) <br>\n",
    "   Galat mutlak $\\displaystyle={\\left|{0.980066577841242}-{0.980066577841242}\\right|}={0.0000000}$ <br>\n",
    "   Galat relatif $\\displaystyle={\\left(\\frac{0.0000000}{{0.980066577841242}}\\right)}\\cdot{100}\\%={0}\\%$ <br>\n",
    "   galat relatif hampiran $\\displaystyle={\\left(\\frac{0.0000000}{{0.980066666666667}}\\right)}\\cdot{100}\\%={0}\\%$ <br>\n",
    "2. fungsi 1/1-2x <br>\n",
    "   Galat mutlak $\\displaystyle={\\left|{1.6666666666666667}-{1.6598400000000002}\\right|}={0.0068266666666665365}$ <br>\n",
    "   Galat relatif $\\displaystyle={\\left(\\frac{0.0068266666666665365}{{1.6666666666666667}}\\right)}\\cdot{100}\\%={0.4096}\\%$ <br>\n",
    "   galat relatif hampiran $\\displaystyle={\\left(\\frac{0.0068266666666665365}{{1.65984000000000}}\\right)}\\cdot{100}\\%={0.4113}\\%$"
   ]
  }
 ],
 "metadata": {
  "kernelspec": {
   "display_name": "Python 3 (ipykernel)",
   "language": "python",
   "name": "python3"
  },
  "language_info": {
   "codemirror_mode": {
    "name": "ipython",
    "version": 3
   },
   "file_extension": ".py",
   "mimetype": "text/x-python",
   "name": "python",
   "nbconvert_exporter": "python",
   "pygments_lexer": "ipython3",
   "version": "3.13.2"
  }
 },
 "nbformat": 4,
 "nbformat_minor": 5
}
